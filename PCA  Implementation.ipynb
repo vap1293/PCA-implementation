{
 "cells": [
  {
   "cell_type": "markdown",
   "metadata": {},
   "source": [
    "#### Principal Component Analysis\n",
    "\n",
    "- Dimensionality Reduction Method\n",
    "- Implementation using Python"
   ]
  },
  {
   "cell_type": "markdown",
   "metadata": {},
   "source": [
    "#### 1) Importing python libraries and basic EDA (Exploratory data analysis)"
   ]
  },
  {
   "cell_type": "code",
   "execution_count": 1,
   "metadata": {},
   "outputs": [],
   "source": [
    "#importing python libraries\n",
    "\n",
    "%matplotlib inline\n",
    "\n",
    "import numpy as np\n",
    "import pandas as pd\n",
    "import seaborn as sns\n",
    "import matplotlib.pyplot as plt\n",
    "from sklearn.preprocessing import StandardScaler\n",
    "from sklearn.model_selection import train_test_split\n",
    "\n",
    "#importing sklearn libraries of built in models\n",
    "from sklearn.decomposition import PCA\n",
    "from sklearn.cluster import KMeans\n",
    "from sklearn.neighbors import KNeighborsClassifier\n",
    "from sklearn.svm import SVC\n",
    "\n",
    "#libraries for evaluating model output\n",
    "from sklearn.metrics import accuracy_score\n",
    "from sklearn.metrics import classification_report"
   ]
  },
  {
   "cell_type": "code",
   "execution_count": 2,
   "metadata": {},
   "outputs": [],
   "source": [
    "#loading mnist dataset\n",
    "\n",
    "mnist_train = pd.read_csv('mnist_train.csv',header=None)\n",
    "mnist_test = pd.read_csv('mnist_test.csv',header=None)"
   ]
  },
  {
   "cell_type": "code",
   "execution_count": 3,
   "metadata": {},
   "outputs": [
    {
     "data": {
      "text/plain": [
       "(6000, 785)"
      ]
     },
     "execution_count": 3,
     "metadata": {},
     "output_type": "execute_result"
    }
   ],
   "source": [
    "#checking rows and columns of train set\n",
    "\n",
    "mnist_train.shape"
   ]
  },
  {
   "cell_type": "code",
   "execution_count": 4,
   "metadata": {},
   "outputs": [
    {
     "data": {
      "text/plain": [
       "(1000, 785)"
      ]
     },
     "execution_count": 4,
     "metadata": {},
     "output_type": "execute_result"
    }
   ],
   "source": [
    "#checking rows and columns of test set\n",
    "\n",
    "mnist_test.shape"
   ]
  },
  {
   "cell_type": "code",
   "execution_count": 5,
   "metadata": {},
   "outputs": [
    {
     "data": {
      "text/html": [
       "<div>\n",
       "<style scoped>\n",
       "    .dataframe tbody tr th:only-of-type {\n",
       "        vertical-align: middle;\n",
       "    }\n",
       "\n",
       "    .dataframe tbody tr th {\n",
       "        vertical-align: top;\n",
       "    }\n",
       "\n",
       "    .dataframe thead th {\n",
       "        text-align: right;\n",
       "    }\n",
       "</style>\n",
       "<table border=\"1\" class=\"dataframe\">\n",
       "  <thead>\n",
       "    <tr style=\"text-align: right;\">\n",
       "      <th></th>\n",
       "      <th>0</th>\n",
       "      <th>1</th>\n",
       "      <th>2</th>\n",
       "      <th>3</th>\n",
       "      <th>4</th>\n",
       "      <th>5</th>\n",
       "      <th>6</th>\n",
       "      <th>7</th>\n",
       "      <th>8</th>\n",
       "      <th>9</th>\n",
       "      <th>...</th>\n",
       "      <th>775</th>\n",
       "      <th>776</th>\n",
       "      <th>777</th>\n",
       "      <th>778</th>\n",
       "      <th>779</th>\n",
       "      <th>780</th>\n",
       "      <th>781</th>\n",
       "      <th>782</th>\n",
       "      <th>783</th>\n",
       "      <th>784</th>\n",
       "    </tr>\n",
       "  </thead>\n",
       "  <tbody>\n",
       "    <tr>\n",
       "      <th>0</th>\n",
       "      <td>5.0</td>\n",
       "      <td>0.0</td>\n",
       "      <td>0.0</td>\n",
       "      <td>0.0</td>\n",
       "      <td>0.0</td>\n",
       "      <td>0.0</td>\n",
       "      <td>0.0</td>\n",
       "      <td>0.0</td>\n",
       "      <td>0.0</td>\n",
       "      <td>0.0</td>\n",
       "      <td>...</td>\n",
       "      <td>0.0</td>\n",
       "      <td>0.0</td>\n",
       "      <td>0.0</td>\n",
       "      <td>0.0</td>\n",
       "      <td>0.0</td>\n",
       "      <td>0.0</td>\n",
       "      <td>0.0</td>\n",
       "      <td>0.0</td>\n",
       "      <td>0.0</td>\n",
       "      <td>0.0</td>\n",
       "    </tr>\n",
       "    <tr>\n",
       "      <th>1</th>\n",
       "      <td>0.0</td>\n",
       "      <td>0.0</td>\n",
       "      <td>0.0</td>\n",
       "      <td>0.0</td>\n",
       "      <td>0.0</td>\n",
       "      <td>0.0</td>\n",
       "      <td>0.0</td>\n",
       "      <td>0.0</td>\n",
       "      <td>0.0</td>\n",
       "      <td>0.0</td>\n",
       "      <td>...</td>\n",
       "      <td>0.0</td>\n",
       "      <td>0.0</td>\n",
       "      <td>0.0</td>\n",
       "      <td>0.0</td>\n",
       "      <td>0.0</td>\n",
       "      <td>0.0</td>\n",
       "      <td>0.0</td>\n",
       "      <td>0.0</td>\n",
       "      <td>0.0</td>\n",
       "      <td>0.0</td>\n",
       "    </tr>\n",
       "    <tr>\n",
       "      <th>2</th>\n",
       "      <td>4.0</td>\n",
       "      <td>0.0</td>\n",
       "      <td>0.0</td>\n",
       "      <td>0.0</td>\n",
       "      <td>0.0</td>\n",
       "      <td>0.0</td>\n",
       "      <td>0.0</td>\n",
       "      <td>0.0</td>\n",
       "      <td>0.0</td>\n",
       "      <td>0.0</td>\n",
       "      <td>...</td>\n",
       "      <td>0.0</td>\n",
       "      <td>0.0</td>\n",
       "      <td>0.0</td>\n",
       "      <td>0.0</td>\n",
       "      <td>0.0</td>\n",
       "      <td>0.0</td>\n",
       "      <td>0.0</td>\n",
       "      <td>0.0</td>\n",
       "      <td>0.0</td>\n",
       "      <td>0.0</td>\n",
       "    </tr>\n",
       "    <tr>\n",
       "      <th>3</th>\n",
       "      <td>1.0</td>\n",
       "      <td>0.0</td>\n",
       "      <td>0.0</td>\n",
       "      <td>0.0</td>\n",
       "      <td>0.0</td>\n",
       "      <td>0.0</td>\n",
       "      <td>0.0</td>\n",
       "      <td>0.0</td>\n",
       "      <td>0.0</td>\n",
       "      <td>0.0</td>\n",
       "      <td>...</td>\n",
       "      <td>0.0</td>\n",
       "      <td>0.0</td>\n",
       "      <td>0.0</td>\n",
       "      <td>0.0</td>\n",
       "      <td>0.0</td>\n",
       "      <td>0.0</td>\n",
       "      <td>0.0</td>\n",
       "      <td>0.0</td>\n",
       "      <td>0.0</td>\n",
       "      <td>0.0</td>\n",
       "    </tr>\n",
       "    <tr>\n",
       "      <th>4</th>\n",
       "      <td>9.0</td>\n",
       "      <td>0.0</td>\n",
       "      <td>0.0</td>\n",
       "      <td>0.0</td>\n",
       "      <td>0.0</td>\n",
       "      <td>0.0</td>\n",
       "      <td>0.0</td>\n",
       "      <td>0.0</td>\n",
       "      <td>0.0</td>\n",
       "      <td>0.0</td>\n",
       "      <td>...</td>\n",
       "      <td>0.0</td>\n",
       "      <td>0.0</td>\n",
       "      <td>0.0</td>\n",
       "      <td>0.0</td>\n",
       "      <td>0.0</td>\n",
       "      <td>0.0</td>\n",
       "      <td>0.0</td>\n",
       "      <td>0.0</td>\n",
       "      <td>0.0</td>\n",
       "      <td>0.0</td>\n",
       "    </tr>\n",
       "  </tbody>\n",
       "</table>\n",
       "<p>5 rows × 785 columns</p>\n",
       "</div>"
      ],
      "text/plain": [
       "   0    1    2    3    4    5    6    7    8    9    ...  775  776  777  778  \\\n",
       "0  5.0  0.0  0.0  0.0  0.0  0.0  0.0  0.0  0.0  0.0  ...  0.0  0.0  0.0  0.0   \n",
       "1  0.0  0.0  0.0  0.0  0.0  0.0  0.0  0.0  0.0  0.0  ...  0.0  0.0  0.0  0.0   \n",
       "2  4.0  0.0  0.0  0.0  0.0  0.0  0.0  0.0  0.0  0.0  ...  0.0  0.0  0.0  0.0   \n",
       "3  1.0  0.0  0.0  0.0  0.0  0.0  0.0  0.0  0.0  0.0  ...  0.0  0.0  0.0  0.0   \n",
       "4  9.0  0.0  0.0  0.0  0.0  0.0  0.0  0.0  0.0  0.0  ...  0.0  0.0  0.0  0.0   \n",
       "\n",
       "   779  780  781  782  783  784  \n",
       "0  0.0  0.0  0.0  0.0  0.0  0.0  \n",
       "1  0.0  0.0  0.0  0.0  0.0  0.0  \n",
       "2  0.0  0.0  0.0  0.0  0.0  0.0  \n",
       "3  0.0  0.0  0.0  0.0  0.0  0.0  \n",
       "4  0.0  0.0  0.0  0.0  0.0  0.0  \n",
       "\n",
       "[5 rows x 785 columns]"
      ]
     },
     "execution_count": 5,
     "metadata": {},
     "output_type": "execute_result"
    }
   ],
   "source": [
    "#basic eda of train set\n",
    "\n",
    "mnist_train.head()"
   ]
  },
  {
   "cell_type": "code",
   "execution_count": 6,
   "metadata": {},
   "outputs": [
    {
     "data": {
      "text/html": [
       "<div>\n",
       "<style scoped>\n",
       "    .dataframe tbody tr th:only-of-type {\n",
       "        vertical-align: middle;\n",
       "    }\n",
       "\n",
       "    .dataframe tbody tr th {\n",
       "        vertical-align: top;\n",
       "    }\n",
       "\n",
       "    .dataframe thead th {\n",
       "        text-align: right;\n",
       "    }\n",
       "</style>\n",
       "<table border=\"1\" class=\"dataframe\">\n",
       "  <thead>\n",
       "    <tr style=\"text-align: right;\">\n",
       "      <th></th>\n",
       "      <th>0</th>\n",
       "      <th>1</th>\n",
       "      <th>2</th>\n",
       "      <th>3</th>\n",
       "      <th>4</th>\n",
       "      <th>5</th>\n",
       "      <th>6</th>\n",
       "      <th>7</th>\n",
       "      <th>8</th>\n",
       "      <th>9</th>\n",
       "      <th>...</th>\n",
       "      <th>775</th>\n",
       "      <th>776</th>\n",
       "      <th>777</th>\n",
       "      <th>778</th>\n",
       "      <th>779</th>\n",
       "      <th>780</th>\n",
       "      <th>781</th>\n",
       "      <th>782</th>\n",
       "      <th>783</th>\n",
       "      <th>784</th>\n",
       "    </tr>\n",
       "  </thead>\n",
       "  <tbody>\n",
       "    <tr>\n",
       "      <th>0</th>\n",
       "      <td>6.0</td>\n",
       "      <td>0.0</td>\n",
       "      <td>0.0</td>\n",
       "      <td>0.0</td>\n",
       "      <td>0.0</td>\n",
       "      <td>0.0</td>\n",
       "      <td>0.0</td>\n",
       "      <td>0.0</td>\n",
       "      <td>0.0</td>\n",
       "      <td>0.0</td>\n",
       "      <td>...</td>\n",
       "      <td>0.0</td>\n",
       "      <td>0.0</td>\n",
       "      <td>0.0</td>\n",
       "      <td>0.0</td>\n",
       "      <td>0.0</td>\n",
       "      <td>0.0</td>\n",
       "      <td>0.0</td>\n",
       "      <td>0.0</td>\n",
       "      <td>0.0</td>\n",
       "      <td>0.0</td>\n",
       "    </tr>\n",
       "    <tr>\n",
       "      <th>1</th>\n",
       "      <td>0.0</td>\n",
       "      <td>0.0</td>\n",
       "      <td>0.0</td>\n",
       "      <td>0.0</td>\n",
       "      <td>0.0</td>\n",
       "      <td>0.0</td>\n",
       "      <td>0.0</td>\n",
       "      <td>0.0</td>\n",
       "      <td>0.0</td>\n",
       "      <td>0.0</td>\n",
       "      <td>...</td>\n",
       "      <td>0.0</td>\n",
       "      <td>0.0</td>\n",
       "      <td>0.0</td>\n",
       "      <td>0.0</td>\n",
       "      <td>0.0</td>\n",
       "      <td>0.0</td>\n",
       "      <td>0.0</td>\n",
       "      <td>0.0</td>\n",
       "      <td>0.0</td>\n",
       "      <td>0.0</td>\n",
       "    </tr>\n",
       "    <tr>\n",
       "      <th>2</th>\n",
       "      <td>1.0</td>\n",
       "      <td>0.0</td>\n",
       "      <td>0.0</td>\n",
       "      <td>0.0</td>\n",
       "      <td>0.0</td>\n",
       "      <td>0.0</td>\n",
       "      <td>0.0</td>\n",
       "      <td>0.0</td>\n",
       "      <td>0.0</td>\n",
       "      <td>0.0</td>\n",
       "      <td>...</td>\n",
       "      <td>0.0</td>\n",
       "      <td>0.0</td>\n",
       "      <td>0.0</td>\n",
       "      <td>0.0</td>\n",
       "      <td>0.0</td>\n",
       "      <td>0.0</td>\n",
       "      <td>0.0</td>\n",
       "      <td>0.0</td>\n",
       "      <td>0.0</td>\n",
       "      <td>0.0</td>\n",
       "    </tr>\n",
       "    <tr>\n",
       "      <th>3</th>\n",
       "      <td>1.0</td>\n",
       "      <td>0.0</td>\n",
       "      <td>0.0</td>\n",
       "      <td>0.0</td>\n",
       "      <td>0.0</td>\n",
       "      <td>0.0</td>\n",
       "      <td>0.0</td>\n",
       "      <td>0.0</td>\n",
       "      <td>0.0</td>\n",
       "      <td>0.0</td>\n",
       "      <td>...</td>\n",
       "      <td>0.0</td>\n",
       "      <td>0.0</td>\n",
       "      <td>0.0</td>\n",
       "      <td>0.0</td>\n",
       "      <td>0.0</td>\n",
       "      <td>0.0</td>\n",
       "      <td>0.0</td>\n",
       "      <td>0.0</td>\n",
       "      <td>0.0</td>\n",
       "      <td>0.0</td>\n",
       "    </tr>\n",
       "    <tr>\n",
       "      <th>4</th>\n",
       "      <td>5.0</td>\n",
       "      <td>0.0</td>\n",
       "      <td>0.0</td>\n",
       "      <td>0.0</td>\n",
       "      <td>0.0</td>\n",
       "      <td>0.0</td>\n",
       "      <td>0.0</td>\n",
       "      <td>0.0</td>\n",
       "      <td>0.0</td>\n",
       "      <td>0.0</td>\n",
       "      <td>...</td>\n",
       "      <td>0.0</td>\n",
       "      <td>0.0</td>\n",
       "      <td>0.0</td>\n",
       "      <td>0.0</td>\n",
       "      <td>0.0</td>\n",
       "      <td>0.0</td>\n",
       "      <td>0.0</td>\n",
       "      <td>0.0</td>\n",
       "      <td>0.0</td>\n",
       "      <td>0.0</td>\n",
       "    </tr>\n",
       "  </tbody>\n",
       "</table>\n",
       "<p>5 rows × 785 columns</p>\n",
       "</div>"
      ],
      "text/plain": [
       "   0    1    2    3    4    5    6    7    8    9    ...  775  776  777  778  \\\n",
       "0  6.0  0.0  0.0  0.0  0.0  0.0  0.0  0.0  0.0  0.0  ...  0.0  0.0  0.0  0.0   \n",
       "1  0.0  0.0  0.0  0.0  0.0  0.0  0.0  0.0  0.0  0.0  ...  0.0  0.0  0.0  0.0   \n",
       "2  1.0  0.0  0.0  0.0  0.0  0.0  0.0  0.0  0.0  0.0  ...  0.0  0.0  0.0  0.0   \n",
       "3  1.0  0.0  0.0  0.0  0.0  0.0  0.0  0.0  0.0  0.0  ...  0.0  0.0  0.0  0.0   \n",
       "4  5.0  0.0  0.0  0.0  0.0  0.0  0.0  0.0  0.0  0.0  ...  0.0  0.0  0.0  0.0   \n",
       "\n",
       "   779  780  781  782  783  784  \n",
       "0  0.0  0.0  0.0  0.0  0.0  0.0  \n",
       "1  0.0  0.0  0.0  0.0  0.0  0.0  \n",
       "2  0.0  0.0  0.0  0.0  0.0  0.0  \n",
       "3  0.0  0.0  0.0  0.0  0.0  0.0  \n",
       "4  0.0  0.0  0.0  0.0  0.0  0.0  \n",
       "\n",
       "[5 rows x 785 columns]"
      ]
     },
     "execution_count": 6,
     "metadata": {},
     "output_type": "execute_result"
    }
   ],
   "source": [
    "#basic eda test set\n",
    "\n",
    "mnist_test.head()"
   ]
  },
  {
   "cell_type": "code",
   "execution_count": 7,
   "metadata": {},
   "outputs": [
    {
     "name": "stdout",
     "output_type": "stream",
     "text": [
      "<class 'pandas.core.frame.DataFrame'>\n",
      "RangeIndex: 6000 entries, 0 to 5999\n",
      "Columns: 785 entries, 0 to 784\n",
      "dtypes: float64(785)\n",
      "memory usage: 35.9 MB\n"
     ]
    }
   ],
   "source": [
    "#exploring further\n",
    "\n",
    "mnist_train.info()"
   ]
  },
  {
   "cell_type": "code",
   "execution_count": 8,
   "metadata": {},
   "outputs": [
    {
     "name": "stdout",
     "output_type": "stream",
     "text": [
      "<class 'pandas.core.frame.DataFrame'>\n",
      "RangeIndex: 1000 entries, 0 to 999\n",
      "Columns: 785 entries, 0 to 784\n",
      "dtypes: float64(785)\n",
      "memory usage: 6.0 MB\n"
     ]
    }
   ],
   "source": [
    "mnist_test.info()"
   ]
  },
  {
   "cell_type": "markdown",
   "metadata": {},
   "source": [
    "#### 2) Splitting data to use for model building and evaluation"
   ]
  },
  {
   "cell_type": "code",
   "execution_count": 9,
   "metadata": {},
   "outputs": [],
   "source": [
    "#splitting into X and y variables using train set\n",
    "\n",
    "X = mnist_train.iloc[:,1:]\n",
    "y = mnist_train.iloc[:,0]"
   ]
  },
  {
   "cell_type": "code",
   "execution_count": 10,
   "metadata": {},
   "outputs": [
    {
     "data": {
      "text/plain": [
       "(6000, 784)"
      ]
     },
     "execution_count": 10,
     "metadata": {},
     "output_type": "execute_result"
    }
   ],
   "source": [
    "#checking splitted dataset\n",
    "\n",
    "X.shape"
   ]
  },
  {
   "cell_type": "code",
   "execution_count": 11,
   "metadata": {},
   "outputs": [
    {
     "data": {
      "text/plain": [
       "(6000,)"
      ]
     },
     "execution_count": 11,
     "metadata": {},
     "output_type": "execute_result"
    }
   ],
   "source": [
    "#checking splitted dataset\n",
    "\n",
    "y.shape"
   ]
  },
  {
   "cell_type": "code",
   "execution_count": 12,
   "metadata": {},
   "outputs": [
    {
     "data": {
      "text/html": [
       "<div>\n",
       "<style scoped>\n",
       "    .dataframe tbody tr th:only-of-type {\n",
       "        vertical-align: middle;\n",
       "    }\n",
       "\n",
       "    .dataframe tbody tr th {\n",
       "        vertical-align: top;\n",
       "    }\n",
       "\n",
       "    .dataframe thead th {\n",
       "        text-align: right;\n",
       "    }\n",
       "</style>\n",
       "<table border=\"1\" class=\"dataframe\">\n",
       "  <thead>\n",
       "    <tr style=\"text-align: right;\">\n",
       "      <th></th>\n",
       "      <th>1</th>\n",
       "      <th>2</th>\n",
       "      <th>3</th>\n",
       "      <th>4</th>\n",
       "      <th>5</th>\n",
       "      <th>6</th>\n",
       "      <th>7</th>\n",
       "      <th>8</th>\n",
       "      <th>9</th>\n",
       "      <th>10</th>\n",
       "      <th>...</th>\n",
       "      <th>775</th>\n",
       "      <th>776</th>\n",
       "      <th>777</th>\n",
       "      <th>778</th>\n",
       "      <th>779</th>\n",
       "      <th>780</th>\n",
       "      <th>781</th>\n",
       "      <th>782</th>\n",
       "      <th>783</th>\n",
       "      <th>784</th>\n",
       "    </tr>\n",
       "  </thead>\n",
       "  <tbody>\n",
       "    <tr>\n",
       "      <th>0</th>\n",
       "      <td>0.0</td>\n",
       "      <td>0.0</td>\n",
       "      <td>0.0</td>\n",
       "      <td>0.0</td>\n",
       "      <td>0.0</td>\n",
       "      <td>0.0</td>\n",
       "      <td>0.0</td>\n",
       "      <td>0.0</td>\n",
       "      <td>0.0</td>\n",
       "      <td>0.0</td>\n",
       "      <td>...</td>\n",
       "      <td>0.0</td>\n",
       "      <td>0.0</td>\n",
       "      <td>0.0</td>\n",
       "      <td>0.0</td>\n",
       "      <td>0.0</td>\n",
       "      <td>0.0</td>\n",
       "      <td>0.0</td>\n",
       "      <td>0.0</td>\n",
       "      <td>0.0</td>\n",
       "      <td>0.0</td>\n",
       "    </tr>\n",
       "    <tr>\n",
       "      <th>1</th>\n",
       "      <td>0.0</td>\n",
       "      <td>0.0</td>\n",
       "      <td>0.0</td>\n",
       "      <td>0.0</td>\n",
       "      <td>0.0</td>\n",
       "      <td>0.0</td>\n",
       "      <td>0.0</td>\n",
       "      <td>0.0</td>\n",
       "      <td>0.0</td>\n",
       "      <td>0.0</td>\n",
       "      <td>...</td>\n",
       "      <td>0.0</td>\n",
       "      <td>0.0</td>\n",
       "      <td>0.0</td>\n",
       "      <td>0.0</td>\n",
       "      <td>0.0</td>\n",
       "      <td>0.0</td>\n",
       "      <td>0.0</td>\n",
       "      <td>0.0</td>\n",
       "      <td>0.0</td>\n",
       "      <td>0.0</td>\n",
       "    </tr>\n",
       "    <tr>\n",
       "      <th>2</th>\n",
       "      <td>0.0</td>\n",
       "      <td>0.0</td>\n",
       "      <td>0.0</td>\n",
       "      <td>0.0</td>\n",
       "      <td>0.0</td>\n",
       "      <td>0.0</td>\n",
       "      <td>0.0</td>\n",
       "      <td>0.0</td>\n",
       "      <td>0.0</td>\n",
       "      <td>0.0</td>\n",
       "      <td>...</td>\n",
       "      <td>0.0</td>\n",
       "      <td>0.0</td>\n",
       "      <td>0.0</td>\n",
       "      <td>0.0</td>\n",
       "      <td>0.0</td>\n",
       "      <td>0.0</td>\n",
       "      <td>0.0</td>\n",
       "      <td>0.0</td>\n",
       "      <td>0.0</td>\n",
       "      <td>0.0</td>\n",
       "    </tr>\n",
       "    <tr>\n",
       "      <th>3</th>\n",
       "      <td>0.0</td>\n",
       "      <td>0.0</td>\n",
       "      <td>0.0</td>\n",
       "      <td>0.0</td>\n",
       "      <td>0.0</td>\n",
       "      <td>0.0</td>\n",
       "      <td>0.0</td>\n",
       "      <td>0.0</td>\n",
       "      <td>0.0</td>\n",
       "      <td>0.0</td>\n",
       "      <td>...</td>\n",
       "      <td>0.0</td>\n",
       "      <td>0.0</td>\n",
       "      <td>0.0</td>\n",
       "      <td>0.0</td>\n",
       "      <td>0.0</td>\n",
       "      <td>0.0</td>\n",
       "      <td>0.0</td>\n",
       "      <td>0.0</td>\n",
       "      <td>0.0</td>\n",
       "      <td>0.0</td>\n",
       "    </tr>\n",
       "    <tr>\n",
       "      <th>4</th>\n",
       "      <td>0.0</td>\n",
       "      <td>0.0</td>\n",
       "      <td>0.0</td>\n",
       "      <td>0.0</td>\n",
       "      <td>0.0</td>\n",
       "      <td>0.0</td>\n",
       "      <td>0.0</td>\n",
       "      <td>0.0</td>\n",
       "      <td>0.0</td>\n",
       "      <td>0.0</td>\n",
       "      <td>...</td>\n",
       "      <td>0.0</td>\n",
       "      <td>0.0</td>\n",
       "      <td>0.0</td>\n",
       "      <td>0.0</td>\n",
       "      <td>0.0</td>\n",
       "      <td>0.0</td>\n",
       "      <td>0.0</td>\n",
       "      <td>0.0</td>\n",
       "      <td>0.0</td>\n",
       "      <td>0.0</td>\n",
       "    </tr>\n",
       "  </tbody>\n",
       "</table>\n",
       "<p>5 rows × 784 columns</p>\n",
       "</div>"
      ],
      "text/plain": [
       "   1    2    3    4    5    6    7    8    9    10   ...  775  776  777  778  \\\n",
       "0  0.0  0.0  0.0  0.0  0.0  0.0  0.0  0.0  0.0  0.0  ...  0.0  0.0  0.0  0.0   \n",
       "1  0.0  0.0  0.0  0.0  0.0  0.0  0.0  0.0  0.0  0.0  ...  0.0  0.0  0.0  0.0   \n",
       "2  0.0  0.0  0.0  0.0  0.0  0.0  0.0  0.0  0.0  0.0  ...  0.0  0.0  0.0  0.0   \n",
       "3  0.0  0.0  0.0  0.0  0.0  0.0  0.0  0.0  0.0  0.0  ...  0.0  0.0  0.0  0.0   \n",
       "4  0.0  0.0  0.0  0.0  0.0  0.0  0.0  0.0  0.0  0.0  ...  0.0  0.0  0.0  0.0   \n",
       "\n",
       "   779  780  781  782  783  784  \n",
       "0  0.0  0.0  0.0  0.0  0.0  0.0  \n",
       "1  0.0  0.0  0.0  0.0  0.0  0.0  \n",
       "2  0.0  0.0  0.0  0.0  0.0  0.0  \n",
       "3  0.0  0.0  0.0  0.0  0.0  0.0  \n",
       "4  0.0  0.0  0.0  0.0  0.0  0.0  \n",
       "\n",
       "[5 rows x 784 columns]"
      ]
     },
     "execution_count": 12,
     "metadata": {},
     "output_type": "execute_result"
    }
   ],
   "source": [
    "#checking samples of X and y\n",
    "\n",
    "X.head()"
   ]
  },
  {
   "cell_type": "code",
   "execution_count": 13,
   "metadata": {},
   "outputs": [
    {
     "data": {
      "text/plain": [
       "0    5.0\n",
       "1    0.0\n",
       "2    4.0\n",
       "3    1.0\n",
       "4    9.0\n",
       "Name: 0, dtype: float64"
      ]
     },
     "execution_count": 13,
     "metadata": {},
     "output_type": "execute_result"
    }
   ],
   "source": [
    "y.head()"
   ]
  },
  {
   "cell_type": "code",
   "execution_count": 14,
   "metadata": {},
   "outputs": [],
   "source": [
    "#splitting train and validation set\n",
    "\n",
    "X_train,X_val,y_train,y_val = train_test_split(X,y,test_size=0.30,shuffle=True)"
   ]
  },
  {
   "cell_type": "code",
   "execution_count": 15,
   "metadata": {},
   "outputs": [
    {
     "name": "stdout",
     "output_type": "stream",
     "text": [
      "(4200, 784)\n",
      "(1800, 784)\n"
     ]
    }
   ],
   "source": [
    "#checking train and validation sets\n",
    "\n",
    "print(X_train.shape)\n",
    "print(X_val.shape)"
   ]
  },
  {
   "cell_type": "code",
   "execution_count": 16,
   "metadata": {},
   "outputs": [
    {
     "name": "stdout",
     "output_type": "stream",
     "text": [
      "(4200,)\n",
      "(1800,)\n"
     ]
    }
   ],
   "source": [
    "print(y_train.shape)\n",
    "print(y_val.shape)"
   ]
  },
  {
   "cell_type": "code",
   "execution_count": 17,
   "metadata": {},
   "outputs": [],
   "source": [
    "#splitting test set\n",
    "\n",
    "X_test = mnist_test.iloc[:,1:]\n",
    "y_test = mnist_test.iloc[:,0]"
   ]
  },
  {
   "cell_type": "code",
   "execution_count": 18,
   "metadata": {},
   "outputs": [
    {
     "name": "stdout",
     "output_type": "stream",
     "text": [
      "(1000, 784)\n",
      "(1000,)\n"
     ]
    }
   ],
   "source": [
    "#checking splitted test dataset\n",
    "\n",
    "print(X_test.shape)\n",
    "print(y_test.shape)"
   ]
  },
  {
   "cell_type": "code",
   "execution_count": 19,
   "metadata": {},
   "outputs": [
    {
     "data": {
      "text/html": [
       "<div>\n",
       "<style scoped>\n",
       "    .dataframe tbody tr th:only-of-type {\n",
       "        vertical-align: middle;\n",
       "    }\n",
       "\n",
       "    .dataframe tbody tr th {\n",
       "        vertical-align: top;\n",
       "    }\n",
       "\n",
       "    .dataframe thead th {\n",
       "        text-align: right;\n",
       "    }\n",
       "</style>\n",
       "<table border=\"1\" class=\"dataframe\">\n",
       "  <thead>\n",
       "    <tr style=\"text-align: right;\">\n",
       "      <th></th>\n",
       "      <th>1</th>\n",
       "      <th>2</th>\n",
       "      <th>3</th>\n",
       "      <th>4</th>\n",
       "      <th>5</th>\n",
       "      <th>6</th>\n",
       "      <th>7</th>\n",
       "      <th>8</th>\n",
       "      <th>9</th>\n",
       "      <th>10</th>\n",
       "      <th>...</th>\n",
       "      <th>775</th>\n",
       "      <th>776</th>\n",
       "      <th>777</th>\n",
       "      <th>778</th>\n",
       "      <th>779</th>\n",
       "      <th>780</th>\n",
       "      <th>781</th>\n",
       "      <th>782</th>\n",
       "      <th>783</th>\n",
       "      <th>784</th>\n",
       "    </tr>\n",
       "  </thead>\n",
       "  <tbody>\n",
       "    <tr>\n",
       "      <th>0</th>\n",
       "      <td>0.0</td>\n",
       "      <td>0.0</td>\n",
       "      <td>0.0</td>\n",
       "      <td>0.0</td>\n",
       "      <td>0.0</td>\n",
       "      <td>0.0</td>\n",
       "      <td>0.0</td>\n",
       "      <td>0.0</td>\n",
       "      <td>0.0</td>\n",
       "      <td>0.0</td>\n",
       "      <td>...</td>\n",
       "      <td>0.0</td>\n",
       "      <td>0.0</td>\n",
       "      <td>0.0</td>\n",
       "      <td>0.0</td>\n",
       "      <td>0.0</td>\n",
       "      <td>0.0</td>\n",
       "      <td>0.0</td>\n",
       "      <td>0.0</td>\n",
       "      <td>0.0</td>\n",
       "      <td>0.0</td>\n",
       "    </tr>\n",
       "    <tr>\n",
       "      <th>1</th>\n",
       "      <td>0.0</td>\n",
       "      <td>0.0</td>\n",
       "      <td>0.0</td>\n",
       "      <td>0.0</td>\n",
       "      <td>0.0</td>\n",
       "      <td>0.0</td>\n",
       "      <td>0.0</td>\n",
       "      <td>0.0</td>\n",
       "      <td>0.0</td>\n",
       "      <td>0.0</td>\n",
       "      <td>...</td>\n",
       "      <td>0.0</td>\n",
       "      <td>0.0</td>\n",
       "      <td>0.0</td>\n",
       "      <td>0.0</td>\n",
       "      <td>0.0</td>\n",
       "      <td>0.0</td>\n",
       "      <td>0.0</td>\n",
       "      <td>0.0</td>\n",
       "      <td>0.0</td>\n",
       "      <td>0.0</td>\n",
       "    </tr>\n",
       "    <tr>\n",
       "      <th>2</th>\n",
       "      <td>0.0</td>\n",
       "      <td>0.0</td>\n",
       "      <td>0.0</td>\n",
       "      <td>0.0</td>\n",
       "      <td>0.0</td>\n",
       "      <td>0.0</td>\n",
       "      <td>0.0</td>\n",
       "      <td>0.0</td>\n",
       "      <td>0.0</td>\n",
       "      <td>0.0</td>\n",
       "      <td>...</td>\n",
       "      <td>0.0</td>\n",
       "      <td>0.0</td>\n",
       "      <td>0.0</td>\n",
       "      <td>0.0</td>\n",
       "      <td>0.0</td>\n",
       "      <td>0.0</td>\n",
       "      <td>0.0</td>\n",
       "      <td>0.0</td>\n",
       "      <td>0.0</td>\n",
       "      <td>0.0</td>\n",
       "    </tr>\n",
       "    <tr>\n",
       "      <th>3</th>\n",
       "      <td>0.0</td>\n",
       "      <td>0.0</td>\n",
       "      <td>0.0</td>\n",
       "      <td>0.0</td>\n",
       "      <td>0.0</td>\n",
       "      <td>0.0</td>\n",
       "      <td>0.0</td>\n",
       "      <td>0.0</td>\n",
       "      <td>0.0</td>\n",
       "      <td>0.0</td>\n",
       "      <td>...</td>\n",
       "      <td>0.0</td>\n",
       "      <td>0.0</td>\n",
       "      <td>0.0</td>\n",
       "      <td>0.0</td>\n",
       "      <td>0.0</td>\n",
       "      <td>0.0</td>\n",
       "      <td>0.0</td>\n",
       "      <td>0.0</td>\n",
       "      <td>0.0</td>\n",
       "      <td>0.0</td>\n",
       "    </tr>\n",
       "    <tr>\n",
       "      <th>4</th>\n",
       "      <td>0.0</td>\n",
       "      <td>0.0</td>\n",
       "      <td>0.0</td>\n",
       "      <td>0.0</td>\n",
       "      <td>0.0</td>\n",
       "      <td>0.0</td>\n",
       "      <td>0.0</td>\n",
       "      <td>0.0</td>\n",
       "      <td>0.0</td>\n",
       "      <td>0.0</td>\n",
       "      <td>...</td>\n",
       "      <td>0.0</td>\n",
       "      <td>0.0</td>\n",
       "      <td>0.0</td>\n",
       "      <td>0.0</td>\n",
       "      <td>0.0</td>\n",
       "      <td>0.0</td>\n",
       "      <td>0.0</td>\n",
       "      <td>0.0</td>\n",
       "      <td>0.0</td>\n",
       "      <td>0.0</td>\n",
       "    </tr>\n",
       "  </tbody>\n",
       "</table>\n",
       "<p>5 rows × 784 columns</p>\n",
       "</div>"
      ],
      "text/plain": [
       "   1    2    3    4    5    6    7    8    9    10   ...  775  776  777  778  \\\n",
       "0  0.0  0.0  0.0  0.0  0.0  0.0  0.0  0.0  0.0  0.0  ...  0.0  0.0  0.0  0.0   \n",
       "1  0.0  0.0  0.0  0.0  0.0  0.0  0.0  0.0  0.0  0.0  ...  0.0  0.0  0.0  0.0   \n",
       "2  0.0  0.0  0.0  0.0  0.0  0.0  0.0  0.0  0.0  0.0  ...  0.0  0.0  0.0  0.0   \n",
       "3  0.0  0.0  0.0  0.0  0.0  0.0  0.0  0.0  0.0  0.0  ...  0.0  0.0  0.0  0.0   \n",
       "4  0.0  0.0  0.0  0.0  0.0  0.0  0.0  0.0  0.0  0.0  ...  0.0  0.0  0.0  0.0   \n",
       "\n",
       "   779  780  781  782  783  784  \n",
       "0  0.0  0.0  0.0  0.0  0.0  0.0  \n",
       "1  0.0  0.0  0.0  0.0  0.0  0.0  \n",
       "2  0.0  0.0  0.0  0.0  0.0  0.0  \n",
       "3  0.0  0.0  0.0  0.0  0.0  0.0  \n",
       "4  0.0  0.0  0.0  0.0  0.0  0.0  \n",
       "\n",
       "[5 rows x 784 columns]"
      ]
     },
     "execution_count": 19,
     "metadata": {},
     "output_type": "execute_result"
    }
   ],
   "source": [
    "X_test.head()"
   ]
  },
  {
   "cell_type": "code",
   "execution_count": 20,
   "metadata": {},
   "outputs": [
    {
     "data": {
      "text/plain": [
       "0    6.0\n",
       "1    0.0\n",
       "2    1.0\n",
       "3    1.0\n",
       "4    5.0\n",
       "Name: 0, dtype: float64"
      ]
     },
     "execution_count": 20,
     "metadata": {},
     "output_type": "execute_result"
    }
   ],
   "source": [
    "y_test.head()"
   ]
  },
  {
   "cell_type": "code",
   "execution_count": 21,
   "metadata": {},
   "outputs": [],
   "source": [
    "#scaling the data - for purpose of additional analysis - as part of experiments\n",
    "\n",
    "std_scaler = StandardScaler()"
   ]
  },
  {
   "cell_type": "code",
   "execution_count": 22,
   "metadata": {},
   "outputs": [
    {
     "data": {
      "text/plain": [
       "StandardScaler()"
      ]
     },
     "execution_count": 22,
     "metadata": {},
     "output_type": "execute_result"
    }
   ],
   "source": [
    "#fitting on train set\n",
    "\n",
    "std_scaler.fit(X_train)"
   ]
  },
  {
   "cell_type": "code",
   "execution_count": 23,
   "metadata": {},
   "outputs": [],
   "source": [
    "#applying on train and set\n",
    "\n",
    "X_train_scaled = std_scaler.transform(X_train)\n",
    "X_test_scaled = std_scaler.transform(X_test)"
   ]
  },
  {
   "cell_type": "code",
   "execution_count": 24,
   "metadata": {},
   "outputs": [],
   "source": [
    "#applying on validation set\n",
    "\n",
    "X_val_scaled = std_scaler.transform(X_val)"
   ]
  },
  {
   "cell_type": "markdown",
   "metadata": {},
   "source": [
    "#### 3) Implementing PCA and checking the classified output"
   ]
  },
  {
   "cell_type": "markdown",
   "metadata": {},
   "source": [
    "##### 3.1) PCA Implementation "
   ]
  },
  {
   "cell_type": "code",
   "execution_count": 25,
   "metadata": {},
   "outputs": [],
   "source": [
    "class PrincipalComponentAnalysis:\n",
    "    \n",
    "    def __init__(self, n_components=None):\n",
    "        self.n_components = n_components\n",
    "        self.eigen_vectors = None\n",
    "        self.mean = None\n",
    "        \n",
    "    def fit(self,X):\n",
    "        n,m = X.shape\n",
    "        self.mean = X.mean(axis=0)\n",
    "        X = X - self.mean\n",
    "        \n",
    "        #calculating covariance matrix\n",
    "        \n",
    "        cov_matrix = np.dot(X.T,X) / (n-1)\n",
    "        cov_matrix = cov_matrix.real\n",
    "        \n",
    "        #calculating eigenvalues and eigenvectors\n",
    "        \n",
    "        eig_values,eig_vectors = np.linalg.eig(cov_matrix)\n",
    "        \n",
    "        eig_vectors = eig_vectors.T.real\n",
    "        \n",
    "        #sorting eigenvectors\n",
    "        \n",
    "        decreasing_sort = np.flip(np.argsort(eig_values))\n",
    "        \n",
    "        eig_values = eig_values[decreasing_sort]\n",
    "        eig_vectors = eig_vectors[decreasing_sort]\n",
    "        \n",
    "        # store first n eigenvectors\n",
    "        self.eigen_vectors = eig_vectors[0:self.n_components]\n",
    "        #print(self.eigen_vectors)\n",
    "        \n",
    "    def transform(self,X):\n",
    "        X = X - self.mean\n",
    "        return np.dot(X,self.eigen_vectors.T)\n",
    "     \n"
   ]
  },
  {
   "cell_type": "markdown",
   "metadata": {},
   "source": [
    "##### 3.1.1) Using implemented PCA with dimension 784 - appyling data on KNN classification model for classification"
   ]
  },
  {
   "cell_type": "code",
   "execution_count": 26,
   "metadata": {},
   "outputs": [],
   "source": [
    "#applying above implemented class of pca with 784 dimensions on mnist data\n",
    "\n",
    "pca_model = PrincipalComponentAnalysis()"
   ]
  },
  {
   "cell_type": "code",
   "execution_count": 27,
   "metadata": {},
   "outputs": [],
   "source": [
    "#applying fit method\n",
    "\n",
    "pca_model.fit(X_train)"
   ]
  },
  {
   "cell_type": "code",
   "execution_count": 28,
   "metadata": {},
   "outputs": [],
   "source": [
    "X_train_pca_transformed = pca_model.transform(X_train)\n",
    "X_val_pca_transformed = pca_model.transform(X_val)"
   ]
  },
  {
   "cell_type": "code",
   "execution_count": 29,
   "metadata": {},
   "outputs": [
    {
     "name": "stdout",
     "output_type": "stream",
     "text": [
      "(4200, 784)\n",
      "(1800, 784)\n"
     ]
    }
   ],
   "source": [
    "#verifying output\n",
    "\n",
    "print(X_train_pca_transformed.shape)\n",
    "print(X_val_pca_transformed.shape)"
   ]
  },
  {
   "cell_type": "code",
   "execution_count": 30,
   "metadata": {},
   "outputs": [],
   "source": [
    "#using the data on 1 - knn to perform classification - instantiating the 1-KNN model\n",
    "\n",
    "knn_model = KNeighborsClassifier(n_neighbors=1)"
   ]
  },
  {
   "cell_type": "code",
   "execution_count": 31,
   "metadata": {},
   "outputs": [
    {
     "data": {
      "text/plain": [
       "KNeighborsClassifier(n_neighbors=1)"
      ]
     },
     "execution_count": 31,
     "metadata": {},
     "output_type": "execute_result"
    }
   ],
   "source": [
    "#checking ouput of 1NN on pca applied dataset\n",
    "\n",
    "knn_model.fit(X_train_pca_transformed,y_train)"
   ]
  },
  {
   "cell_type": "code",
   "execution_count": 32,
   "metadata": {},
   "outputs": [],
   "source": [
    "y_pred = knn_model.predict(X_val_pca_transformed)"
   ]
  },
  {
   "cell_type": "code",
   "execution_count": 33,
   "metadata": {},
   "outputs": [
    {
     "name": "stdout",
     "output_type": "stream",
     "text": [
      "[3. 9. 6. ... 7. 0. 9.]\n",
      "2536    3.0\n",
      "3508    9.0\n",
      "4765    6.0\n",
      "2239    6.0\n",
      "4228    4.0\n",
      "Name: 0, dtype: float64\n"
     ]
    }
   ],
   "source": [
    "#comparing output\n",
    "\n",
    "print(y_pred)\n",
    "print(y_val.head())"
   ]
  },
  {
   "cell_type": "code",
   "execution_count": 34,
   "metadata": {},
   "outputs": [
    {
     "name": "stdout",
     "output_type": "stream",
     "text": [
      "Validation accuracy :  0.9405555555555556\n",
      "              precision    recall  f1-score   support\n",
      "\n",
      "         0.0       0.96      0.99      0.97       162\n",
      "         1.0       0.92      0.99      0.95       208\n",
      "         2.0       0.97      0.94      0.95       176\n",
      "         3.0       0.94      0.94      0.94       213\n",
      "         4.0       0.98      0.91      0.94       180\n",
      "         5.0       0.93      0.90      0.92       156\n",
      "         6.0       0.95      0.97      0.96       202\n",
      "         7.0       0.92      0.95      0.94       189\n",
      "         8.0       0.98      0.87      0.92       151\n",
      "         9.0       0.87      0.93      0.90       163\n",
      "\n",
      "    accuracy                           0.94      1800\n",
      "   macro avg       0.94      0.94      0.94      1800\n",
      "weighted avg       0.94      0.94      0.94      1800\n",
      "\n"
     ]
    }
   ],
   "source": [
    "#evaluating performance of implemented model\n",
    "\n",
    "print(\"Validation accuracy : \", accuracy_score(y_val,y_pred))\n",
    "print(classification_report(y_val,y_pred))"
   ]
  },
  {
   "cell_type": "code",
   "execution_count": 35,
   "metadata": {},
   "outputs": [],
   "source": [
    "#transforming/reducing test data by applying pca on test data\n",
    "\n",
    "X_test_pca_transformed = pca_model.transform(X_test)"
   ]
  },
  {
   "cell_type": "code",
   "execution_count": 36,
   "metadata": {},
   "outputs": [
    {
     "name": "stdout",
     "output_type": "stream",
     "text": [
      "(1000, 784)\n"
     ]
    }
   ],
   "source": [
    "#verifying output\n",
    "\n",
    "print(X_test_pca_transformed.shape)"
   ]
  },
  {
   "cell_type": "code",
   "execution_count": 37,
   "metadata": {},
   "outputs": [],
   "source": [
    "#predicting or classifying output for test set\n",
    "\n",
    "y_pred_test = knn_model.predict(X_test_pca_transformed)"
   ]
  },
  {
   "cell_type": "code",
   "execution_count": 38,
   "metadata": {},
   "outputs": [
    {
     "name": "stdout",
     "output_type": "stream",
     "text": [
      "Test accuracy :  0.92\n",
      "              precision    recall  f1-score   support\n",
      "\n",
      "         0.0       0.97      0.98      0.97        99\n",
      "         1.0       0.96      0.99      0.97       113\n",
      "         2.0       0.97      0.91      0.94        94\n",
      "         3.0       0.92      0.84      0.88       108\n",
      "         4.0       0.94      0.88      0.91        93\n",
      "         5.0       0.93      0.92      0.92        96\n",
      "         6.0       0.90      1.00      0.95       101\n",
      "         7.0       0.92      0.84      0.88       103\n",
      "         8.0       0.97      0.87      0.91        99\n",
      "         9.0       0.77      0.96      0.85        94\n",
      "\n",
      "    accuracy                           0.92      1000\n",
      "   macro avg       0.92      0.92      0.92      1000\n",
      "weighted avg       0.92      0.92      0.92      1000\n",
      "\n"
     ]
    }
   ],
   "source": [
    "#evaluating performance of implemented model\n",
    "\n",
    "print(\"Test accuracy : \", accuracy_score(y_test,y_pred_test))\n",
    "print(classification_report(y_test,y_pred_test))"
   ]
  },
  {
   "cell_type": "markdown",
   "metadata": {},
   "source": [
    "##### 3.1.2) Using implemented PCA for various dimension in range 512 to 2 - appyling updated data on KNN classification model for classification - experiments"
   ]
  },
  {
   "cell_type": "code",
   "execution_count": 39,
   "metadata": {},
   "outputs": [],
   "source": [
    "#intializing in a variable different dimension counts\n",
    "\n",
    "dimension_count = [2,4,10,16,32,64,128,256,512]"
   ]
  },
  {
   "cell_type": "code",
   "execution_count": 40,
   "metadata": {},
   "outputs": [
    {
     "name": "stdout",
     "output_type": "stream",
     "text": [
      "For 2 dimensions/features,\n",
      "Train shape :  (4200, 2)\n",
      "Validation shape :  (1800, 2)\n",
      "Validation Accuracy :  0.39\n",
      "              precision    recall  f1-score   support\n",
      "\n",
      "         0.0       0.66      0.70      0.68       162\n",
      "         1.0       0.89      0.90      0.89       208\n",
      "         2.0       0.27      0.28      0.28       176\n",
      "         3.0       0.41      0.38      0.40       213\n",
      "         4.0       0.29      0.31      0.30       180\n",
      "         5.0       0.16      0.15      0.15       156\n",
      "         6.0       0.31      0.28      0.29       202\n",
      "         7.0       0.38      0.35      0.37       189\n",
      "         8.0       0.17      0.17      0.17       151\n",
      "         9.0       0.23      0.26      0.24       163\n",
      "\n",
      "    accuracy                           0.39      1800\n",
      "   macro avg       0.38      0.38      0.38      1800\n",
      "weighted avg       0.39      0.39      0.39      1800\n",
      "\n",
      "\n",
      "\n",
      "For 2 components,\n",
      "Test shape :  (1000, 2)\n",
      "Test accuracy :  0.414\n",
      "              precision    recall  f1-score   support\n",
      "\n",
      "         0.0       0.63      0.67      0.65        99\n",
      "         1.0       0.89      0.90      0.90       113\n",
      "         2.0       0.32      0.30      0.31        94\n",
      "         3.0       0.46      0.50      0.48       108\n",
      "         4.0       0.31      0.30      0.31        93\n",
      "         5.0       0.16      0.17      0.16        96\n",
      "         6.0       0.25      0.27      0.26       101\n",
      "         7.0       0.47      0.40      0.43       103\n",
      "         8.0       0.20      0.15      0.17        99\n",
      "         9.0       0.32      0.39      0.35        94\n",
      "\n",
      "    accuracy                           0.41      1000\n",
      "   macro avg       0.40      0.40      0.40      1000\n",
      "weighted avg       0.41      0.41      0.41      1000\n",
      "\n",
      "For 4 dimensions/features,\n",
      "Train shape :  (4200, 4)\n",
      "Validation shape :  (1800, 4)\n",
      "Validation Accuracy :  0.6166666666666667\n",
      "              precision    recall  f1-score   support\n",
      "\n",
      "         0.0       0.70      0.81      0.75       162\n",
      "         1.0       0.88      0.94      0.91       208\n",
      "         2.0       0.64      0.62      0.63       176\n",
      "         3.0       0.70      0.57      0.63       213\n",
      "         4.0       0.56      0.62      0.59       180\n",
      "         5.0       0.37      0.35      0.36       156\n",
      "         6.0       0.70      0.68      0.69       202\n",
      "         7.0       0.61      0.58      0.60       189\n",
      "         8.0       0.44      0.48      0.46       151\n",
      "         9.0       0.43      0.40      0.42       163\n",
      "\n",
      "    accuracy                           0.62      1800\n",
      "   macro avg       0.60      0.61      0.60      1800\n",
      "weighted avg       0.62      0.62      0.61      1800\n",
      "\n",
      "\n",
      "\n",
      "For 4 components,\n",
      "Test shape :  (1000, 4)\n",
      "Test accuracy :  0.591\n",
      "              precision    recall  f1-score   support\n",
      "\n",
      "         0.0       0.70      0.75      0.73        99\n",
      "         1.0       0.91      0.96      0.93       113\n",
      "         2.0       0.59      0.59      0.59        94\n",
      "         3.0       0.61      0.60      0.61       108\n",
      "         4.0       0.51      0.60      0.55        93\n",
      "         5.0       0.35      0.36      0.36        96\n",
      "         6.0       0.68      0.64      0.66       101\n",
      "         7.0       0.63      0.65      0.64       103\n",
      "         8.0       0.35      0.26      0.30        99\n",
      "         9.0       0.44      0.43      0.43        94\n",
      "\n",
      "    accuracy                           0.59      1000\n",
      "   macro avg       0.58      0.58      0.58      1000\n",
      "weighted avg       0.58      0.59      0.59      1000\n",
      "\n",
      "For 10 dimensions/features,\n",
      "Train shape :  (4200, 10)\n",
      "Validation shape :  (1800, 10)\n",
      "Validation Accuracy :  0.8827777777777778\n",
      "              precision    recall  f1-score   support\n",
      "\n",
      "         0.0       0.92      0.98      0.95       162\n",
      "         1.0       0.94      0.99      0.96       208\n",
      "         2.0       0.97      0.94      0.95       176\n",
      "         3.0       0.91      0.80      0.85       213\n",
      "         4.0       0.83      0.84      0.83       180\n",
      "         5.0       0.86      0.86      0.86       156\n",
      "         6.0       0.93      0.92      0.92       202\n",
      "         7.0       0.93      0.90      0.92       189\n",
      "         8.0       0.76      0.81      0.78       151\n",
      "         9.0       0.74      0.77      0.76       163\n",
      "\n",
      "    accuracy                           0.88      1800\n",
      "   macro avg       0.88      0.88      0.88      1800\n",
      "weighted avg       0.88      0.88      0.88      1800\n",
      "\n",
      "\n",
      "\n",
      "For 10 components,\n",
      "Test shape :  (1000, 10)\n",
      "Test accuracy :  0.865\n",
      "              precision    recall  f1-score   support\n",
      "\n",
      "         0.0       0.87      0.94      0.90        99\n",
      "         1.0       0.96      0.98      0.97       113\n",
      "         2.0       0.93      0.90      0.92        94\n",
      "         3.0       0.87      0.74      0.80       108\n",
      "         4.0       0.88      0.77      0.82        93\n",
      "         5.0       0.82      0.86      0.84        96\n",
      "         6.0       0.90      0.95      0.92       101\n",
      "         7.0       0.98      0.82      0.89       103\n",
      "         8.0       0.83      0.82      0.82        99\n",
      "         9.0       0.67      0.85      0.75        94\n",
      "\n",
      "    accuracy                           0.86      1000\n",
      "   macro avg       0.87      0.86      0.86      1000\n",
      "weighted avg       0.87      0.86      0.87      1000\n",
      "\n",
      "For 16 dimensions/features,\n",
      "Train shape :  (4200, 16)\n",
      "Validation shape :  (1800, 16)\n",
      "Validation Accuracy :  0.9355555555555556\n",
      "              precision    recall  f1-score   support\n",
      "\n",
      "         0.0       0.96      0.98      0.97       162\n",
      "         1.0       0.93      0.99      0.96       208\n",
      "         2.0       0.96      0.95      0.95       176\n",
      "         3.0       0.94      0.92      0.93       213\n",
      "         4.0       0.92      0.93      0.92       180\n",
      "         5.0       0.95      0.92      0.93       156\n",
      "         6.0       0.94      0.98      0.96       202\n",
      "         7.0       0.95      0.93      0.94       189\n",
      "         8.0       0.92      0.89      0.91       151\n",
      "         9.0       0.88      0.85      0.86       163\n",
      "\n",
      "    accuracy                           0.94      1800\n",
      "   macro avg       0.93      0.93      0.93      1800\n",
      "weighted avg       0.94      0.94      0.94      1800\n",
      "\n",
      "\n",
      "\n",
      "For 16 components,\n",
      "Test shape :  (1000, 16)\n",
      "Test accuracy :  0.913\n",
      "              precision    recall  f1-score   support\n",
      "\n",
      "         0.0       0.98      0.98      0.98        99\n",
      "         1.0       0.98      0.98      0.98       113\n",
      "         2.0       0.94      0.96      0.95        94\n",
      "         3.0       0.87      0.86      0.87       108\n",
      "         4.0       0.95      0.86      0.90        93\n",
      "         5.0       0.90      0.89      0.89        96\n",
      "         6.0       0.92      0.97      0.94       101\n",
      "         7.0       0.96      0.79      0.87       103\n",
      "         8.0       0.95      0.90      0.92        99\n",
      "         9.0       0.73      0.95      0.82        94\n",
      "\n",
      "    accuracy                           0.91      1000\n",
      "   macro avg       0.92      0.91      0.91      1000\n",
      "weighted avg       0.92      0.91      0.91      1000\n",
      "\n",
      "For 32 dimensions/features,\n",
      "Train shape :  (4200, 32)\n",
      "Validation shape :  (1800, 32)\n",
      "Validation Accuracy :  0.9488888888888889\n",
      "              precision    recall  f1-score   support\n",
      "\n",
      "         0.0       0.98      0.99      0.98       162\n",
      "         1.0       0.95      0.98      0.97       208\n",
      "         2.0       0.97      0.95      0.96       176\n",
      "         3.0       0.93      0.95      0.94       213\n",
      "         4.0       0.97      0.93      0.95       180\n",
      "         5.0       0.97      0.91      0.94       156\n",
      "         6.0       0.94      0.98      0.96       202\n",
      "         7.0       0.95      0.95      0.95       189\n",
      "         8.0       0.97      0.92      0.95       151\n",
      "         9.0       0.88      0.91      0.89       163\n",
      "\n",
      "    accuracy                           0.95      1800\n",
      "   macro avg       0.95      0.95      0.95      1800\n",
      "weighted avg       0.95      0.95      0.95      1800\n",
      "\n",
      "\n",
      "\n",
      "For 32 components,\n",
      "Test shape :  (1000, 32)\n",
      "Test accuracy :  0.94\n",
      "              precision    recall  f1-score   support\n",
      "\n",
      "         0.0       0.98      0.98      0.98        99\n",
      "         1.0       0.97      0.99      0.98       113\n",
      "         2.0       0.98      0.97      0.97        94\n",
      "         3.0       0.95      0.89      0.92       108\n",
      "         4.0       0.93      0.91      0.92        93\n",
      "         5.0       0.97      0.97      0.97        96\n",
      "         6.0       0.92      1.00      0.96       101\n",
      "         7.0       0.95      0.86      0.90       103\n",
      "         8.0       0.98      0.90      0.94        99\n",
      "         9.0       0.79      0.93      0.85        94\n",
      "\n",
      "    accuracy                           0.94      1000\n",
      "   macro avg       0.94      0.94      0.94      1000\n",
      "weighted avg       0.94      0.94      0.94      1000\n",
      "\n"
     ]
    },
    {
     "name": "stdout",
     "output_type": "stream",
     "text": [
      "For 64 dimensions/features,\n",
      "Train shape :  (4200, 64)\n",
      "Validation shape :  (1800, 64)\n",
      "Validation Accuracy :  0.9483333333333334\n",
      "              precision    recall  f1-score   support\n",
      "\n",
      "         0.0       0.96      0.99      0.98       162\n",
      "         1.0       0.95      0.99      0.97       208\n",
      "         2.0       0.96      0.93      0.95       176\n",
      "         3.0       0.94      0.95      0.95       213\n",
      "         4.0       0.96      0.92      0.94       180\n",
      "         5.0       0.93      0.92      0.93       156\n",
      "         6.0       0.96      0.97      0.97       202\n",
      "         7.0       0.95      0.95      0.95       189\n",
      "         8.0       0.97      0.93      0.95       151\n",
      "         9.0       0.88      0.93      0.90       163\n",
      "\n",
      "    accuracy                           0.95      1800\n",
      "   macro avg       0.95      0.95      0.95      1800\n",
      "weighted avg       0.95      0.95      0.95      1800\n",
      "\n",
      "\n",
      "\n",
      "For 64 components,\n",
      "Test shape :  (1000, 64)\n",
      "Test accuracy :  0.938\n",
      "              precision    recall  f1-score   support\n",
      "\n",
      "         0.0       0.99      0.98      0.98        99\n",
      "         1.0       0.97      0.99      0.98       113\n",
      "         2.0       0.98      0.95      0.96        94\n",
      "         3.0       0.94      0.88      0.91       108\n",
      "         4.0       0.95      0.90      0.93        93\n",
      "         5.0       0.95      0.93      0.94        96\n",
      "         6.0       0.92      1.00      0.96       101\n",
      "         7.0       0.96      0.86      0.91       103\n",
      "         8.0       0.97      0.91      0.94        99\n",
      "         9.0       0.79      0.98      0.88        94\n",
      "\n",
      "    accuracy                           0.94      1000\n",
      "   macro avg       0.94      0.94      0.94      1000\n",
      "weighted avg       0.94      0.94      0.94      1000\n",
      "\n",
      "For 128 dimensions/features,\n",
      "Train shape :  (4200, 128)\n",
      "Validation shape :  (1800, 128)\n",
      "Validation Accuracy :  0.9433333333333334\n",
      "              precision    recall  f1-score   support\n",
      "\n",
      "         0.0       0.96      0.98      0.97       162\n",
      "         1.0       0.93      0.99      0.96       208\n",
      "         2.0       0.97      0.95      0.96       176\n",
      "         3.0       0.94      0.94      0.94       213\n",
      "         4.0       0.97      0.91      0.94       180\n",
      "         5.0       0.93      0.90      0.91       156\n",
      "         6.0       0.95      0.97      0.96       202\n",
      "         7.0       0.94      0.95      0.94       189\n",
      "         8.0       0.98      0.90      0.94       151\n",
      "         9.0       0.87      0.93      0.90       163\n",
      "\n",
      "    accuracy                           0.94      1800\n",
      "   macro avg       0.94      0.94      0.94      1800\n",
      "weighted avg       0.94      0.94      0.94      1800\n",
      "\n",
      "\n",
      "\n",
      "For 128 components,\n",
      "Test shape :  (1000, 128)\n",
      "Test accuracy :  0.926\n",
      "              precision    recall  f1-score   support\n",
      "\n",
      "         0.0       0.96      0.98      0.97        99\n",
      "         1.0       0.97      0.99      0.98       113\n",
      "         2.0       0.97      0.91      0.94        94\n",
      "         3.0       0.92      0.85      0.88       108\n",
      "         4.0       0.95      0.88      0.92        93\n",
      "         5.0       0.94      0.92      0.93        96\n",
      "         6.0       0.92      1.00      0.96       101\n",
      "         7.0       0.91      0.85      0.88       103\n",
      "         8.0       0.98      0.90      0.94        99\n",
      "         9.0       0.78      0.97      0.87        94\n",
      "\n",
      "    accuracy                           0.93      1000\n",
      "   macro avg       0.93      0.93      0.93      1000\n",
      "weighted avg       0.93      0.93      0.93      1000\n",
      "\n",
      "For 256 dimensions/features,\n",
      "Train shape :  (4200, 256)\n",
      "Validation shape :  (1800, 256)\n",
      "Validation Accuracy :  0.9411111111111111\n",
      "              precision    recall  f1-score   support\n",
      "\n",
      "         0.0       0.96      0.99      0.98       162\n",
      "         1.0       0.92      0.99      0.95       208\n",
      "         2.0       0.98      0.93      0.95       176\n",
      "         3.0       0.94      0.94      0.94       213\n",
      "         4.0       0.98      0.91      0.94       180\n",
      "         5.0       0.93      0.90      0.92       156\n",
      "         6.0       0.95      0.97      0.96       202\n",
      "         7.0       0.93      0.95      0.94       189\n",
      "         8.0       0.97      0.88      0.92       151\n",
      "         9.0       0.86      0.93      0.90       163\n",
      "\n",
      "    accuracy                           0.94      1800\n",
      "   macro avg       0.94      0.94      0.94      1800\n",
      "weighted avg       0.94      0.94      0.94      1800\n",
      "\n",
      "\n",
      "\n",
      "For 256 components,\n",
      "Test shape :  (1000, 256)\n",
      "Test accuracy :  0.924\n",
      "              precision    recall  f1-score   support\n",
      "\n",
      "         0.0       0.97      0.98      0.97        99\n",
      "         1.0       0.97      0.99      0.98       113\n",
      "         2.0       0.97      0.94      0.95        94\n",
      "         3.0       0.92      0.84      0.88       108\n",
      "         4.0       0.94      0.87      0.91        93\n",
      "         5.0       0.93      0.92      0.92        96\n",
      "         6.0       0.90      1.00      0.95       101\n",
      "         7.0       0.92      0.86      0.89       103\n",
      "         8.0       0.98      0.89      0.93        99\n",
      "         9.0       0.78      0.95      0.86        94\n",
      "\n",
      "    accuracy                           0.92      1000\n",
      "   macro avg       0.93      0.92      0.92      1000\n",
      "weighted avg       0.93      0.92      0.92      1000\n",
      "\n",
      "For 512 dimensions/features,\n",
      "Train shape :  (4200, 512)\n",
      "Validation shape :  (1800, 512)\n",
      "Validation Accuracy :  0.9405555555555556\n",
      "              precision    recall  f1-score   support\n",
      "\n",
      "         0.0       0.96      0.99      0.97       162\n",
      "         1.0       0.92      0.99      0.95       208\n",
      "         2.0       0.97      0.94      0.95       176\n",
      "         3.0       0.94      0.94      0.94       213\n",
      "         4.0       0.98      0.91      0.94       180\n",
      "         5.0       0.93      0.90      0.92       156\n",
      "         6.0       0.95      0.97      0.96       202\n",
      "         7.0       0.92      0.95      0.94       189\n",
      "         8.0       0.98      0.87      0.92       151\n",
      "         9.0       0.87      0.93      0.90       163\n",
      "\n",
      "    accuracy                           0.94      1800\n",
      "   macro avg       0.94      0.94      0.94      1800\n",
      "weighted avg       0.94      0.94      0.94      1800\n",
      "\n",
      "\n",
      "\n",
      "For 512 components,\n",
      "Test shape :  (1000, 512)\n",
      "Test accuracy :  0.92\n",
      "              precision    recall  f1-score   support\n",
      "\n",
      "         0.0       0.97      0.98      0.97        99\n",
      "         1.0       0.96      0.99      0.97       113\n",
      "         2.0       0.97      0.91      0.94        94\n",
      "         3.0       0.92      0.84      0.88       108\n",
      "         4.0       0.94      0.88      0.91        93\n",
      "         5.0       0.93      0.92      0.92        96\n",
      "         6.0       0.90      1.00      0.95       101\n",
      "         7.0       0.92      0.84      0.88       103\n",
      "         8.0       0.97      0.87      0.91        99\n",
      "         9.0       0.77      0.96      0.85        94\n",
      "\n",
      "    accuracy                           0.92      1000\n",
      "   macro avg       0.92      0.92      0.92      1000\n",
      "weighted avg       0.92      0.92      0.92      1000\n",
      "\n"
     ]
    }
   ],
   "source": [
    "#creating a function to try different dimensions\n",
    "\n",
    "for i in dimension_count:\n",
    "    \n",
    "    pca_model = PrincipalComponentAnalysis(i)\n",
    "    \n",
    "    #fitting model\n",
    "    \n",
    "    pca_model.fit(X_train)\n",
    "    \n",
    "    #transforming dataset\n",
    "    \n",
    "    X_train_pca_transformed = pca_model.transform(X_train)\n",
    "    X_val_pca_transformed = pca_model.transform(X_val)\n",
    "    \n",
    "    print('For {} dimensions/features,'.format(i))\n",
    "    print(\"Train shape : \", X_train_pca_transformed.shape)\n",
    "    print(\"Validation shape : \", X_val_pca_transformed.shape)\n",
    "    \n",
    "    #applying 1-Knn\n",
    "    \n",
    "    knn_model.fit(X_train_pca_transformed,y_train)\n",
    "    \n",
    "    y_pred = knn_model.predict(X_val_pca_transformed)\n",
    "    \n",
    "    #evaluating output for train set\n",
    "    \n",
    "    print(\"Validation Accuracy : \", accuracy_score(y_val,y_pred))\n",
    "    print(classification_report(y_val,y_pred))\n",
    "    print(\"\\n\")\n",
    "    \n",
    "    #transforming/reducing test data by applying pca on test data\n",
    "\n",
    "    X_test_pca_transformed = pca_model.transform(X_test)\n",
    "    \n",
    "    #checking reduced dimension\n",
    "    print('For {} components,'.format(i))\n",
    "    print(\"Test shape : \", X_test_pca_transformed.shape)\n",
    "    \n",
    "    #predicting or classifying output for test set\n",
    "\n",
    "    y_pred_test = knn_model.predict(X_test_pca_transformed)\n",
    "    \n",
    "    #evaluating performance of implemented model on test set\n",
    "\n",
    "    print(\"Test accuracy : \", accuracy_score(y_test,y_pred_test))\n",
    "    print(classification_report(y_test,y_pred_test))\n"
   ]
  },
  {
   "cell_type": "code",
   "execution_count": 41,
   "metadata": {},
   "outputs": [],
   "source": [
    "#plotting graph for different dimensions \n",
    "\n",
    "#trainset_acc = [0.3844444444444444,0.6111111111111112,0.8788888888888889,0.9338888888888889, 0.9361111111111111,0.9338888888888889,0.9277777777777778,0.925,0.9222222222222223,0.9227777777777778]\n",
    "#testset_acc = [0.39,0.627,0.866,0.919,0.934,0.932,0.927,0.921,0.916,0.916]"
   ]
  },
  {
   "cell_type": "code",
   "execution_count": 42,
   "metadata": {},
   "outputs": [],
   "source": [
    "#dim_used = [2,4,10,16,32,64,128,256,512,784]"
   ]
  },
  {
   "cell_type": "code",
   "execution_count": 43,
   "metadata": {},
   "outputs": [
    {
     "data": {
      "image/png": "[encoded data removed]",
      "text/plain": [
       "<Figure size 432x288 with 1 Axes>"
      ]
     },
     "metadata": {
      "needs_background": "light"
     },
     "output_type": "display_data"
    }
   ],
   "source": [
    "#plotting trainset accuracy for different dimensions\n",
    "\n",
    "#plt.plot(dim_used,trainset_acc)\n",
    "#plt.title(\"Trainset Accuracy for various dimensions\")\n",
    "#plt.xlabel(\"Number of dimensions/features\")\n",
    "#plt.ylabel(\"Accuracy\")\n",
    "#plt.show()"
   ]
  },
  {
   "cell_type": "code",
   "execution_count": 44,
   "metadata": {},
   "outputs": [
    {
     "data": {
      "image/png": "[encoded data removed]",
      "text/plain": [
       "<Figure size 432x288 with 1 Axes>"
      ]
     },
     "metadata": {
      "needs_background": "light"
     },
     "output_type": "display_data"
    }
   ],
   "source": [
    "#plotting testset accuracy for different dimensions\n",
    "\n",
    "#plt.plot(dim_used,testset_acc)\n",
    "#plt.title(\"Testset Accuracy for various dimensions\")\n",
    "#plt.xlabel(\"Number of dimensions/features\")\n",
    "#plt.ylabel(\"Accuracy\")\n",
    "#plt.show()"
   ]
  },
  {
   "cell_type": "markdown",
   "metadata": {},
   "source": [
    "##### 3.2) Using sklearn PCA to compare results with implemented model"
   ]
  },
  {
   "cell_type": "markdown",
   "metadata": {},
   "source": [
    "##### 3.2.1) Using sklearn PCA with dimension 784 - appyling KNN classification model for classification"
   ]
  },
  {
   "cell_type": "code",
   "execution_count": 45,
   "metadata": {},
   "outputs": [],
   "source": [
    "#using sklearn pca\n",
    "\n",
    "pca = PCA(svd_solver='full')"
   ]
  },
  {
   "cell_type": "code",
   "execution_count": 46,
   "metadata": {},
   "outputs": [
    {
     "data": {
      "text/plain": [
       "PCA(svd_solver='full')"
      ]
     },
     "execution_count": 46,
     "metadata": {},
     "output_type": "execute_result"
    }
   ],
   "source": [
    "#fitting on train data\n",
    "\n",
    "pca.fit(X_train)"
   ]
  },
  {
   "cell_type": "code",
   "execution_count": 47,
   "metadata": {},
   "outputs": [],
   "source": [
    "#applying on train and validation set\n",
    "\n",
    "X_train_pca = pca.transform(X_train)\n",
    "X_val_pca = pca.transform(X_val)"
   ]
  },
  {
   "cell_type": "code",
   "execution_count": 48,
   "metadata": {},
   "outputs": [
    {
     "name": "stdout",
     "output_type": "stream",
     "text": [
      "(4200, 784)\n",
      "(1800, 784)\n"
     ]
    }
   ],
   "source": [
    "#checking data after using PCA\n",
    "\n",
    "print(X_train_pca.shape)\n",
    "print(X_val_pca.shape)"
   ]
  },
  {
   "cell_type": "code",
   "execution_count": 49,
   "metadata": {},
   "outputs": [
    {
     "data": {
      "text/plain": [
       "KNeighborsClassifier(n_neighbors=1)"
      ]
     },
     "execution_count": 49,
     "metadata": {},
     "output_type": "execute_result"
    }
   ],
   "source": [
    "#fitting train set on instance of model created above\n",
    "\n",
    "knn_model.fit(X_train_pca,y_train)"
   ]
  },
  {
   "cell_type": "code",
   "execution_count": 50,
   "metadata": {},
   "outputs": [],
   "source": [
    "#predicting using validation set\n",
    "\n",
    "y_pred = knn_model.predict(X_val_pca)"
   ]
  },
  {
   "cell_type": "code",
   "execution_count": 51,
   "metadata": {},
   "outputs": [
    {
     "name": "stdout",
     "output_type": "stream",
     "text": [
      "[3. 9. 6. ... 7. 0. 9.]\n",
      "2536    3.0\n",
      "3508    9.0\n",
      "4765    6.0\n",
      "2239    6.0\n",
      "4228    4.0\n",
      "Name: 0, dtype: float64\n"
     ]
    }
   ],
   "source": [
    "print(y_pred)\n",
    "print(y_val.head())"
   ]
  },
  {
   "cell_type": "code",
   "execution_count": 52,
   "metadata": {},
   "outputs": [
    {
     "name": "stdout",
     "output_type": "stream",
     "text": [
      "Validation accuracy :  0.9405555555555556\n",
      "              precision    recall  f1-score   support\n",
      "\n",
      "         0.0       0.96      0.99      0.97       162\n",
      "         1.0       0.92      0.99      0.95       208\n",
      "         2.0       0.97      0.94      0.95       176\n",
      "         3.0       0.94      0.94      0.94       213\n",
      "         4.0       0.98      0.91      0.94       180\n",
      "         5.0       0.93      0.90      0.92       156\n",
      "         6.0       0.95      0.97      0.96       202\n",
      "         7.0       0.92      0.95      0.94       189\n",
      "         8.0       0.98      0.87      0.92       151\n",
      "         9.0       0.87      0.93      0.90       163\n",
      "\n",
      "    accuracy                           0.94      1800\n",
      "   macro avg       0.94      0.94      0.94      1800\n",
      "weighted avg       0.94      0.94      0.94      1800\n",
      "\n"
     ]
    }
   ],
   "source": [
    "#evaluating the classifed output\n",
    "\n",
    "print('Validation accuracy : ',  accuracy_score(y_val,y_pred))\n",
    "print(classification_report(y_val,y_pred))"
   ]
  },
  {
   "cell_type": "code",
   "execution_count": 53,
   "metadata": {},
   "outputs": [],
   "source": [
    "#applying on test set\n",
    "\n",
    "X_test_pca = pca.transform(X_test)"
   ]
  },
  {
   "cell_type": "code",
   "execution_count": 54,
   "metadata": {},
   "outputs": [
    {
     "name": "stdout",
     "output_type": "stream",
     "text": [
      "(1000, 784)\n"
     ]
    }
   ],
   "source": [
    "#checking test data shape\n",
    "\n",
    "print(X_test.shape)"
   ]
  },
  {
   "cell_type": "code",
   "execution_count": 55,
   "metadata": {},
   "outputs": [],
   "source": [
    "#predicting or classifying output for test set\n",
    "\n",
    "y_pred_test = knn_model.predict(X_test_pca)"
   ]
  },
  {
   "cell_type": "code",
   "execution_count": 56,
   "metadata": {},
   "outputs": [
    {
     "name": "stdout",
     "output_type": "stream",
     "text": [
      "Test accuracy :  0.92\n",
      "              precision    recall  f1-score   support\n",
      "\n",
      "         0.0       0.97      0.98      0.97        99\n",
      "         1.0       0.96      0.99      0.97       113\n",
      "         2.0       0.97      0.91      0.94        94\n",
      "         3.0       0.92      0.84      0.88       108\n",
      "         4.0       0.94      0.88      0.91        93\n",
      "         5.0       0.93      0.92      0.92        96\n",
      "         6.0       0.90      1.00      0.95       101\n",
      "         7.0       0.92      0.84      0.88       103\n",
      "         8.0       0.97      0.87      0.91        99\n",
      "         9.0       0.77      0.96      0.85        94\n",
      "\n",
      "    accuracy                           0.92      1000\n",
      "   macro avg       0.92      0.92      0.92      1000\n",
      "weighted avg       0.92      0.92      0.92      1000\n",
      "\n"
     ]
    }
   ],
   "source": [
    "#evaluating performance of implemented model\n",
    "\n",
    "print(\"Test accuracy : \", accuracy_score(y_test,y_pred_test))\n",
    "print(classification_report(y_test,y_pred_test))"
   ]
  },
  {
   "cell_type": "markdown",
   "metadata": {},
   "source": [
    "##### 3.2.2) Using sklearn PCA for different dimensions - appyling KNN classification model for classification"
   ]
  },
  {
   "cell_type": "code",
   "execution_count": 57,
   "metadata": {},
   "outputs": [
    {
     "name": "stdout",
     "output_type": "stream",
     "text": [
      "For 2 dimensions/features,\n",
      "Train shape :  (4200, 2)\n",
      "Validation shape :  (1800, 2)\n",
      "Validation Accuracy :  0.39\n",
      "              precision    recall  f1-score   support\n",
      "\n",
      "         0.0       0.66      0.70      0.68       162\n",
      "         1.0       0.89      0.90      0.89       208\n",
      "         2.0       0.27      0.28      0.28       176\n",
      "         3.0       0.41      0.38      0.40       213\n",
      "         4.0       0.29      0.31      0.30       180\n",
      "         5.0       0.16      0.15      0.15       156\n",
      "         6.0       0.31      0.28      0.29       202\n",
      "         7.0       0.38      0.35      0.37       189\n",
      "         8.0       0.17      0.17      0.17       151\n",
      "         9.0       0.23      0.26      0.24       163\n",
      "\n",
      "    accuracy                           0.39      1800\n",
      "   macro avg       0.38      0.38      0.38      1800\n",
      "weighted avg       0.39      0.39      0.39      1800\n",
      "\n",
      "\n",
      "\n",
      "For 2 dimensions/features,\n",
      "Test shape :  (1000, 2)\n",
      "Test accuracy :  0.414\n",
      "              precision    recall  f1-score   support\n",
      "\n",
      "         0.0       0.63      0.67      0.65        99\n",
      "         1.0       0.89      0.90      0.90       113\n",
      "         2.0       0.32      0.30      0.31        94\n",
      "         3.0       0.46      0.50      0.48       108\n",
      "         4.0       0.31      0.30      0.31        93\n",
      "         5.0       0.16      0.17      0.16        96\n",
      "         6.0       0.25      0.27      0.26       101\n",
      "         7.0       0.47      0.40      0.43       103\n",
      "         8.0       0.20      0.15      0.17        99\n",
      "         9.0       0.32      0.39      0.35        94\n",
      "\n",
      "    accuracy                           0.41      1000\n",
      "   macro avg       0.40      0.40      0.40      1000\n",
      "weighted avg       0.41      0.41      0.41      1000\n",
      "\n",
      "For 4 dimensions/features,\n",
      "Train shape :  (4200, 4)\n",
      "Validation shape :  (1800, 4)\n",
      "Validation Accuracy :  0.6166666666666667\n",
      "              precision    recall  f1-score   support\n",
      "\n",
      "         0.0       0.70      0.81      0.75       162\n",
      "         1.0       0.88      0.94      0.91       208\n",
      "         2.0       0.64      0.62      0.63       176\n",
      "         3.0       0.70      0.57      0.63       213\n",
      "         4.0       0.56      0.62      0.59       180\n",
      "         5.0       0.37      0.35      0.36       156\n",
      "         6.0       0.70      0.68      0.69       202\n",
      "         7.0       0.61      0.58      0.60       189\n",
      "         8.0       0.44      0.48      0.46       151\n",
      "         9.0       0.43      0.40      0.42       163\n",
      "\n",
      "    accuracy                           0.62      1800\n",
      "   macro avg       0.60      0.61      0.60      1800\n",
      "weighted avg       0.62      0.62      0.61      1800\n",
      "\n",
      "\n",
      "\n",
      "For 4 dimensions/features,\n",
      "Test shape :  (1000, 4)\n",
      "Test accuracy :  0.591\n",
      "              precision    recall  f1-score   support\n",
      "\n",
      "         0.0       0.70      0.75      0.73        99\n",
      "         1.0       0.91      0.96      0.93       113\n",
      "         2.0       0.59      0.59      0.59        94\n",
      "         3.0       0.61      0.60      0.61       108\n",
      "         4.0       0.51      0.60      0.55        93\n",
      "         5.0       0.35      0.36      0.36        96\n",
      "         6.0       0.68      0.64      0.66       101\n",
      "         7.0       0.63      0.65      0.64       103\n",
      "         8.0       0.35      0.26      0.30        99\n",
      "         9.0       0.44      0.43      0.43        94\n",
      "\n",
      "    accuracy                           0.59      1000\n",
      "   macro avg       0.58      0.58      0.58      1000\n",
      "weighted avg       0.58      0.59      0.59      1000\n",
      "\n",
      "For 10 dimensions/features,\n",
      "Train shape :  (4200, 10)\n",
      "Validation shape :  (1800, 10)\n",
      "Validation Accuracy :  0.8827777777777778\n",
      "              precision    recall  f1-score   support\n",
      "\n",
      "         0.0       0.92      0.98      0.95       162\n",
      "         1.0       0.94      0.99      0.96       208\n",
      "         2.0       0.97      0.94      0.95       176\n",
      "         3.0       0.91      0.80      0.85       213\n",
      "         4.0       0.83      0.84      0.83       180\n",
      "         5.0       0.86      0.86      0.86       156\n",
      "         6.0       0.93      0.92      0.92       202\n",
      "         7.0       0.93      0.90      0.92       189\n",
      "         8.0       0.76      0.81      0.78       151\n",
      "         9.0       0.74      0.77      0.76       163\n",
      "\n",
      "    accuracy                           0.88      1800\n",
      "   macro avg       0.88      0.88      0.88      1800\n",
      "weighted avg       0.88      0.88      0.88      1800\n",
      "\n",
      "\n",
      "\n",
      "For 10 dimensions/features,\n",
      "Test shape :  (1000, 10)\n",
      "Test accuracy :  0.865\n",
      "              precision    recall  f1-score   support\n",
      "\n",
      "         0.0       0.87      0.94      0.90        99\n",
      "         1.0       0.96      0.98      0.97       113\n",
      "         2.0       0.93      0.90      0.92        94\n",
      "         3.0       0.87      0.74      0.80       108\n",
      "         4.0       0.88      0.77      0.82        93\n",
      "         5.0       0.82      0.86      0.84        96\n",
      "         6.0       0.90      0.95      0.92       101\n",
      "         7.0       0.98      0.82      0.89       103\n",
      "         8.0       0.83      0.82      0.82        99\n",
      "         9.0       0.67      0.85      0.75        94\n",
      "\n",
      "    accuracy                           0.86      1000\n",
      "   macro avg       0.87      0.86      0.86      1000\n",
      "weighted avg       0.87      0.86      0.87      1000\n",
      "\n",
      "For 16 dimensions/features,\n",
      "Train shape :  (4200, 16)\n",
      "Validation shape :  (1800, 16)\n",
      "Validation Accuracy :  0.9355555555555556\n",
      "              precision    recall  f1-score   support\n",
      "\n",
      "         0.0       0.96      0.98      0.97       162\n",
      "         1.0       0.93      0.99      0.96       208\n",
      "         2.0       0.96      0.95      0.95       176\n",
      "         3.0       0.94      0.92      0.93       213\n",
      "         4.0       0.92      0.93      0.92       180\n",
      "         5.0       0.95      0.92      0.93       156\n",
      "         6.0       0.94      0.98      0.96       202\n",
      "         7.0       0.95      0.93      0.94       189\n",
      "         8.0       0.92      0.89      0.91       151\n",
      "         9.0       0.88      0.85      0.86       163\n",
      "\n",
      "    accuracy                           0.94      1800\n",
      "   macro avg       0.93      0.93      0.93      1800\n",
      "weighted avg       0.94      0.94      0.94      1800\n",
      "\n",
      "\n",
      "\n",
      "For 16 dimensions/features,\n",
      "Test shape :  (1000, 16)\n",
      "Test accuracy :  0.913\n",
      "              precision    recall  f1-score   support\n",
      "\n",
      "         0.0       0.98      0.98      0.98        99\n",
      "         1.0       0.98      0.98      0.98       113\n",
      "         2.0       0.94      0.96      0.95        94\n",
      "         3.0       0.87      0.86      0.87       108\n",
      "         4.0       0.95      0.86      0.90        93\n",
      "         5.0       0.90      0.89      0.89        96\n",
      "         6.0       0.92      0.97      0.94       101\n",
      "         7.0       0.96      0.79      0.87       103\n",
      "         8.0       0.95      0.90      0.92        99\n",
      "         9.0       0.73      0.95      0.82        94\n",
      "\n",
      "    accuracy                           0.91      1000\n",
      "   macro avg       0.92      0.91      0.91      1000\n",
      "weighted avg       0.92      0.91      0.91      1000\n",
      "\n",
      "For 32 dimensions/features,\n",
      "Train shape :  (4200, 32)\n",
      "Validation shape :  (1800, 32)\n",
      "Validation Accuracy :  0.9488888888888889\n",
      "              precision    recall  f1-score   support\n",
      "\n",
      "         0.0       0.98      0.99      0.98       162\n",
      "         1.0       0.95      0.98      0.97       208\n",
      "         2.0       0.97      0.95      0.96       176\n",
      "         3.0       0.93      0.95      0.94       213\n",
      "         4.0       0.97      0.93      0.95       180\n",
      "         5.0       0.97      0.91      0.94       156\n",
      "         6.0       0.94      0.98      0.96       202\n",
      "         7.0       0.95      0.95      0.95       189\n",
      "         8.0       0.97      0.92      0.95       151\n",
      "         9.0       0.88      0.91      0.89       163\n",
      "\n",
      "    accuracy                           0.95      1800\n",
      "   macro avg       0.95      0.95      0.95      1800\n",
      "weighted avg       0.95      0.95      0.95      1800\n",
      "\n",
      "\n",
      "\n",
      "For 32 dimensions/features,\n",
      "Test shape :  (1000, 32)\n",
      "Test accuracy :  0.94\n",
      "              precision    recall  f1-score   support\n",
      "\n",
      "         0.0       0.98      0.98      0.98        99\n",
      "         1.0       0.97      0.99      0.98       113\n",
      "         2.0       0.98      0.97      0.97        94\n",
      "         3.0       0.95      0.89      0.92       108\n",
      "         4.0       0.93      0.91      0.92        93\n",
      "         5.0       0.97      0.97      0.97        96\n",
      "         6.0       0.92      1.00      0.96       101\n",
      "         7.0       0.95      0.86      0.90       103\n",
      "         8.0       0.98      0.90      0.94        99\n",
      "         9.0       0.79      0.93      0.85        94\n",
      "\n",
      "    accuracy                           0.94      1000\n",
      "   macro avg       0.94      0.94      0.94      1000\n",
      "weighted avg       0.94      0.94      0.94      1000\n",
      "\n"
     ]
    },
    {
     "name": "stdout",
     "output_type": "stream",
     "text": [
      "For 64 dimensions/features,\n",
      "Train shape :  (4200, 64)\n",
      "Validation shape :  (1800, 64)\n",
      "Validation Accuracy :  0.9483333333333334\n",
      "              precision    recall  f1-score   support\n",
      "\n",
      "         0.0       0.96      0.99      0.98       162\n",
      "         1.0       0.95      0.99      0.97       208\n",
      "         2.0       0.96      0.93      0.95       176\n",
      "         3.0       0.94      0.95      0.95       213\n",
      "         4.0       0.96      0.92      0.94       180\n",
      "         5.0       0.93      0.92      0.93       156\n",
      "         6.0       0.96      0.97      0.97       202\n",
      "         7.0       0.95      0.95      0.95       189\n",
      "         8.0       0.97      0.93      0.95       151\n",
      "         9.0       0.88      0.93      0.90       163\n",
      "\n",
      "    accuracy                           0.95      1800\n",
      "   macro avg       0.95      0.95      0.95      1800\n",
      "weighted avg       0.95      0.95      0.95      1800\n",
      "\n",
      "\n",
      "\n",
      "For 64 dimensions/features,\n",
      "Test shape :  (1000, 64)\n",
      "Test accuracy :  0.938\n",
      "              precision    recall  f1-score   support\n",
      "\n",
      "         0.0       0.99      0.98      0.98        99\n",
      "         1.0       0.97      0.99      0.98       113\n",
      "         2.0       0.98      0.95      0.96        94\n",
      "         3.0       0.94      0.88      0.91       108\n",
      "         4.0       0.95      0.90      0.93        93\n",
      "         5.0       0.95      0.93      0.94        96\n",
      "         6.0       0.92      1.00      0.96       101\n",
      "         7.0       0.96      0.86      0.91       103\n",
      "         8.0       0.97      0.91      0.94        99\n",
      "         9.0       0.79      0.98      0.88        94\n",
      "\n",
      "    accuracy                           0.94      1000\n",
      "   macro avg       0.94      0.94      0.94      1000\n",
      "weighted avg       0.94      0.94      0.94      1000\n",
      "\n",
      "For 128 dimensions/features,\n",
      "Train shape :  (4200, 128)\n",
      "Validation shape :  (1800, 128)\n",
      "Validation Accuracy :  0.9433333333333334\n",
      "              precision    recall  f1-score   support\n",
      "\n",
      "         0.0       0.96      0.98      0.97       162\n",
      "         1.0       0.93      0.99      0.96       208\n",
      "         2.0       0.97      0.95      0.96       176\n",
      "         3.0       0.94      0.94      0.94       213\n",
      "         4.0       0.97      0.91      0.94       180\n",
      "         5.0       0.93      0.90      0.91       156\n",
      "         6.0       0.95      0.97      0.96       202\n",
      "         7.0       0.94      0.95      0.94       189\n",
      "         8.0       0.98      0.90      0.94       151\n",
      "         9.0       0.87      0.93      0.90       163\n",
      "\n",
      "    accuracy                           0.94      1800\n",
      "   macro avg       0.94      0.94      0.94      1800\n",
      "weighted avg       0.94      0.94      0.94      1800\n",
      "\n",
      "\n",
      "\n",
      "For 128 dimensions/features,\n",
      "Test shape :  (1000, 128)\n",
      "Test accuracy :  0.926\n",
      "              precision    recall  f1-score   support\n",
      "\n",
      "         0.0       0.96      0.98      0.97        99\n",
      "         1.0       0.97      0.99      0.98       113\n",
      "         2.0       0.97      0.91      0.94        94\n",
      "         3.0       0.92      0.85      0.88       108\n",
      "         4.0       0.95      0.88      0.92        93\n",
      "         5.0       0.94      0.92      0.93        96\n",
      "         6.0       0.92      1.00      0.96       101\n",
      "         7.0       0.91      0.85      0.88       103\n",
      "         8.0       0.98      0.90      0.94        99\n",
      "         9.0       0.78      0.97      0.87        94\n",
      "\n",
      "    accuracy                           0.93      1000\n",
      "   macro avg       0.93      0.93      0.93      1000\n",
      "weighted avg       0.93      0.93      0.93      1000\n",
      "\n",
      "For 256 dimensions/features,\n",
      "Train shape :  (4200, 256)\n",
      "Validation shape :  (1800, 256)\n",
      "Validation Accuracy :  0.9411111111111111\n",
      "              precision    recall  f1-score   support\n",
      "\n",
      "         0.0       0.96      0.99      0.98       162\n",
      "         1.0       0.92      0.99      0.95       208\n",
      "         2.0       0.98      0.93      0.95       176\n",
      "         3.0       0.94      0.94      0.94       213\n",
      "         4.0       0.98      0.91      0.94       180\n",
      "         5.0       0.93      0.90      0.92       156\n",
      "         6.0       0.95      0.97      0.96       202\n",
      "         7.0       0.93      0.95      0.94       189\n",
      "         8.0       0.97      0.88      0.92       151\n",
      "         9.0       0.86      0.93      0.90       163\n",
      "\n",
      "    accuracy                           0.94      1800\n",
      "   macro avg       0.94      0.94      0.94      1800\n",
      "weighted avg       0.94      0.94      0.94      1800\n",
      "\n",
      "\n",
      "\n",
      "For 256 dimensions/features,\n",
      "Test shape :  (1000, 256)\n",
      "Test accuracy :  0.924\n",
      "              precision    recall  f1-score   support\n",
      "\n",
      "         0.0       0.97      0.98      0.97        99\n",
      "         1.0       0.97      0.99      0.98       113\n",
      "         2.0       0.97      0.94      0.95        94\n",
      "         3.0       0.92      0.84      0.88       108\n",
      "         4.0       0.94      0.87      0.91        93\n",
      "         5.0       0.93      0.92      0.92        96\n",
      "         6.0       0.90      1.00      0.95       101\n",
      "         7.0       0.92      0.86      0.89       103\n",
      "         8.0       0.98      0.89      0.93        99\n",
      "         9.0       0.78      0.95      0.86        94\n",
      "\n",
      "    accuracy                           0.92      1000\n",
      "   macro avg       0.93      0.92      0.92      1000\n",
      "weighted avg       0.93      0.92      0.92      1000\n",
      "\n",
      "For 512 dimensions/features,\n",
      "Train shape :  (4200, 512)\n",
      "Validation shape :  (1800, 512)\n",
      "Validation Accuracy :  0.9405555555555556\n",
      "              precision    recall  f1-score   support\n",
      "\n",
      "         0.0       0.96      0.99      0.97       162\n",
      "         1.0       0.92      0.99      0.95       208\n",
      "         2.0       0.97      0.94      0.95       176\n",
      "         3.0       0.94      0.94      0.94       213\n",
      "         4.0       0.98      0.91      0.94       180\n",
      "         5.0       0.93      0.90      0.92       156\n",
      "         6.0       0.95      0.97      0.96       202\n",
      "         7.0       0.92      0.95      0.94       189\n",
      "         8.0       0.98      0.87      0.92       151\n",
      "         9.0       0.87      0.93      0.90       163\n",
      "\n",
      "    accuracy                           0.94      1800\n",
      "   macro avg       0.94      0.94      0.94      1800\n",
      "weighted avg       0.94      0.94      0.94      1800\n",
      "\n",
      "\n",
      "\n",
      "For 512 dimensions/features,\n",
      "Test shape :  (1000, 512)\n",
      "Test accuracy :  0.92\n",
      "              precision    recall  f1-score   support\n",
      "\n",
      "         0.0       0.97      0.98      0.97        99\n",
      "         1.0       0.96      0.99      0.97       113\n",
      "         2.0       0.97      0.91      0.94        94\n",
      "         3.0       0.92      0.84      0.88       108\n",
      "         4.0       0.94      0.88      0.91        93\n",
      "         5.0       0.93      0.92      0.92        96\n",
      "         6.0       0.90      1.00      0.95       101\n",
      "         7.0       0.92      0.84      0.88       103\n",
      "         8.0       0.97      0.87      0.91        99\n",
      "         9.0       0.77      0.96      0.85        94\n",
      "\n",
      "    accuracy                           0.92      1000\n",
      "   macro avg       0.92      0.92      0.92      1000\n",
      "weighted avg       0.92      0.92      0.92      1000\n",
      "\n"
     ]
    }
   ],
   "source": [
    "#creating a function to try different dimensions\n",
    "\n",
    "for i in dimension_count:\n",
    "    \n",
    "    pca = PCA(svd_solver='full')\n",
    "    pca.n_components = i\n",
    "    \n",
    "    #fitting model\n",
    "    \n",
    "    pca.fit(X_train)\n",
    "    \n",
    "    #transforming dataset\n",
    "    \n",
    "    X_train_pca = pca.transform(X_train)\n",
    "    X_val_pca = pca.transform(X_val)\n",
    "    \n",
    "    print('For {} dimensions/features,'.format(i))\n",
    "    print(\"Train shape : \", X_train_pca.shape)\n",
    "    print(\"Validation shape : \", X_val_pca.shape)\n",
    "    \n",
    "    #applying 1-Knn\n",
    "    \n",
    "    knn_model.fit(X_train_pca,y_train)\n",
    "    \n",
    "    y_pred = knn_model.predict(X_val_pca)\n",
    "    \n",
    "    #evaluating output for train set\n",
    "    \n",
    "    print(\"Validation Accuracy : \", accuracy_score(y_val,y_pred))\n",
    "    print(classification_report(y_val,y_pred))\n",
    "    print(\"\\n\")\n",
    "    \n",
    "    #transforming/reducing test data by applying pca on test data\n",
    "\n",
    "    X_test_pca = pca.transform(X_test)\n",
    "    \n",
    "    #checking reduced dimension\n",
    "    print('For {} dimensions/features,'.format(i))\n",
    "    print(\"Test shape : \", X_test_pca.shape)\n",
    "    \n",
    "    #predicting or classifying output for test set\n",
    "\n",
    "    y_pred_test = knn_model.predict(X_test_pca)\n",
    "    \n",
    "    #evaluating performance of implemented model on test set\n",
    "\n",
    "    print(\"Test accuracy : \", accuracy_score(y_test,y_pred_test))\n",
    "    print(classification_report(y_test,y_pred_test))\n"
   ]
  },
  {
   "cell_type": "markdown",
   "metadata": {},
   "source": [
    "##### 3.3) Checking implemented PCA and sklearn PCA on scaled data with dimension reduced to 256"
   ]
  },
  {
   "cell_type": "markdown",
   "metadata": {},
   "source": [
    "##### 3.3.1) Checking scaled data ouptut with implemented PCA"
   ]
  },
  {
   "cell_type": "code",
   "execution_count": 58,
   "metadata": {},
   "outputs": [],
   "source": [
    "#calling instance of implemted model\n",
    "\n",
    "pca_model = PrincipalComponentAnalysis(256)"
   ]
  },
  {
   "cell_type": "code",
   "execution_count": 59,
   "metadata": {},
   "outputs": [],
   "source": [
    "#fitting scaled train dataset\n",
    "\n",
    "pca_model.fit(X_train_scaled)"
   ]
  },
  {
   "cell_type": "code",
   "execution_count": 60,
   "metadata": {},
   "outputs": [],
   "source": [
    "#reducing train and validation set\n",
    "\n",
    "X_train_pca_transformed = pca_model.transform(X_train_scaled)\n",
    "X_val_pca_transformed = pca_model.transform(X_val_scaled)"
   ]
  },
  {
   "cell_type": "code",
   "execution_count": 61,
   "metadata": {},
   "outputs": [
    {
     "name": "stdout",
     "output_type": "stream",
     "text": [
      "(4200, 256)\n",
      "(1800, 256)\n"
     ]
    }
   ],
   "source": [
    "#checking the shape\n",
    "\n",
    "print(X_train_pca_transformed.shape)\n",
    "print(X_val_pca_transformed.shape)"
   ]
  },
  {
   "cell_type": "code",
   "execution_count": 62,
   "metadata": {},
   "outputs": [
    {
     "data": {
      "text/plain": [
       "KNeighborsClassifier(n_neighbors=1)"
      ]
     },
     "execution_count": 62,
     "metadata": {},
     "output_type": "execute_result"
    }
   ],
   "source": [
    "#fitting knn model on train set\n",
    "\n",
    "knn_model.fit(X_train_pca_transformed,y_train)"
   ]
  },
  {
   "cell_type": "code",
   "execution_count": 63,
   "metadata": {},
   "outputs": [],
   "source": [
    "#predicting output\n",
    "\n",
    "y_pred = knn_model.predict(X_val_pca_transformed)"
   ]
  },
  {
   "cell_type": "code",
   "execution_count": 64,
   "metadata": {},
   "outputs": [
    {
     "name": "stdout",
     "output_type": "stream",
     "text": [
      "[3. 9. 6. ... 7. 0. 9.]\n",
      "2536    3.0\n",
      "3508    9.0\n",
      "4765    6.0\n",
      "2239    6.0\n",
      "4228    4.0\n",
      "Name: 0, dtype: float64\n"
     ]
    }
   ],
   "source": [
    "#comparing output\n",
    "\n",
    "print(y_pred)\n",
    "print(y_val.head())"
   ]
  },
  {
   "cell_type": "code",
   "execution_count": 65,
   "metadata": {},
   "outputs": [
    {
     "name": "stdout",
     "output_type": "stream",
     "text": [
      "Validation accuracy :  0.9016666666666666\n",
      "              precision    recall  f1-score   support\n",
      "\n",
      "         0.0       0.93      0.96      0.95       162\n",
      "         1.0       0.94      0.99      0.96       208\n",
      "         2.0       0.93      0.88      0.90       176\n",
      "         3.0       0.89      0.91      0.90       213\n",
      "         4.0       0.93      0.88      0.90       180\n",
      "         5.0       0.86      0.84      0.85       156\n",
      "         6.0       0.94      0.94      0.94       202\n",
      "         7.0       0.88      0.89      0.88       189\n",
      "         8.0       0.93      0.85      0.89       151\n",
      "         9.0       0.78      0.85      0.81       163\n",
      "\n",
      "    accuracy                           0.90      1800\n",
      "   macro avg       0.90      0.90      0.90      1800\n",
      "weighted avg       0.90      0.90      0.90      1800\n",
      "\n"
     ]
    }
   ],
   "source": [
    "#evaluating model for scaled data\n",
    "\n",
    "print('Validation accuracy : ',  accuracy_score(y_val,y_pred))\n",
    "print(classification_report(y_val,y_pred))"
   ]
  },
  {
   "cell_type": "code",
   "execution_count": 66,
   "metadata": {},
   "outputs": [],
   "source": [
    "#applying on test set\n",
    "\n",
    "X_test_pca_transformed = pca_model.transform(X_test_scaled)"
   ]
  },
  {
   "cell_type": "code",
   "execution_count": 67,
   "metadata": {},
   "outputs": [
    {
     "name": "stdout",
     "output_type": "stream",
     "text": [
      "(1000, 256)\n"
     ]
    }
   ],
   "source": [
    "#checking shape of test set after dimension reduction\n",
    "\n",
    "print(X_test_pca_transformed.shape)"
   ]
  },
  {
   "cell_type": "code",
   "execution_count": 68,
   "metadata": {},
   "outputs": [],
   "source": [
    "#predicting output\n",
    "\n",
    "y_pred_test = knn_model.predict(X_test_pca_transformed)"
   ]
  },
  {
   "cell_type": "code",
   "execution_count": 69,
   "metadata": {},
   "outputs": [
    {
     "name": "stdout",
     "output_type": "stream",
     "text": [
      "Test accuracy :  0.894\n",
      "              precision    recall  f1-score   support\n",
      "\n",
      "         0.0       0.92      0.98      0.95        99\n",
      "         1.0       0.95      0.99      0.97       113\n",
      "         2.0       0.97      0.88      0.92        94\n",
      "         3.0       0.90      0.77      0.83       108\n",
      "         4.0       0.95      0.90      0.93        93\n",
      "         5.0       0.86      0.85      0.86        96\n",
      "         6.0       0.89      0.98      0.93       101\n",
      "         7.0       0.90      0.76      0.82       103\n",
      "         8.0       0.90      0.87      0.88        99\n",
      "         9.0       0.74      0.96      0.83        94\n",
      "\n",
      "    accuracy                           0.89      1000\n",
      "   macro avg       0.90      0.89      0.89      1000\n",
      "weighted avg       0.90      0.89      0.89      1000\n",
      "\n"
     ]
    }
   ],
   "source": [
    "#evaluating performance of implemented model\n",
    "\n",
    "print(\"Test accuracy : \", accuracy_score(y_test,y_pred_test))\n",
    "print(classification_report(y_test,y_pred_test))"
   ]
  },
  {
   "cell_type": "markdown",
   "metadata": {},
   "source": [
    "##### 3.3.2) Checking scaled data ouptut with sklearn PCA"
   ]
  },
  {
   "cell_type": "code",
   "execution_count": 70,
   "metadata": {},
   "outputs": [],
   "source": [
    "#specifying dimension\n",
    "\n",
    "pca.n_components = 256"
   ]
  },
  {
   "cell_type": "code",
   "execution_count": 71,
   "metadata": {},
   "outputs": [
    {
     "data": {
      "text/plain": [
       "PCA(n_components=256, svd_solver='full')"
      ]
     },
     "execution_count": 71,
     "metadata": {},
     "output_type": "execute_result"
    }
   ],
   "source": [
    "#fitting scaled train data\n",
    "\n",
    "pca.fit(X_train_scaled)"
   ]
  },
  {
   "cell_type": "code",
   "execution_count": 72,
   "metadata": {},
   "outputs": [],
   "source": [
    "#transforming train and validation data\n",
    "\n",
    "X_train_pca = pca.transform(X_train_scaled)\n",
    "X_val_pca = pca.transform(X_val_scaled)"
   ]
  },
  {
   "cell_type": "code",
   "execution_count": 73,
   "metadata": {},
   "outputs": [
    {
     "data": {
      "text/plain": [
       "KNeighborsClassifier(n_neighbors=1)"
      ]
     },
     "execution_count": 73,
     "metadata": {},
     "output_type": "execute_result"
    }
   ],
   "source": [
    "#fitting knn model on train set\n",
    "\n",
    "knn_model.fit(X_train_pca,y_train)"
   ]
  },
  {
   "cell_type": "code",
   "execution_count": 74,
   "metadata": {},
   "outputs": [],
   "source": [
    "#predicting ouptut\n",
    "\n",
    "y_pred = knn_model.predict(X_val_pca)"
   ]
  },
  {
   "cell_type": "code",
   "execution_count": 75,
   "metadata": {},
   "outputs": [
    {
     "name": "stdout",
     "output_type": "stream",
     "text": [
      "Validation accuracy :  0.9016666666666666\n",
      "              precision    recall  f1-score   support\n",
      "\n",
      "         0.0       0.93      0.96      0.95       162\n",
      "         1.0       0.94      0.99      0.96       208\n",
      "         2.0       0.93      0.88      0.90       176\n",
      "         3.0       0.89      0.91      0.90       213\n",
      "         4.0       0.93      0.88      0.90       180\n",
      "         5.0       0.86      0.84      0.85       156\n",
      "         6.0       0.94      0.94      0.94       202\n",
      "         7.0       0.88      0.89      0.88       189\n",
      "         8.0       0.93      0.85      0.89       151\n",
      "         9.0       0.78      0.85      0.81       163\n",
      "\n",
      "    accuracy                           0.90      1800\n",
      "   macro avg       0.90      0.90      0.90      1800\n",
      "weighted avg       0.90      0.90      0.90      1800\n",
      "\n"
     ]
    }
   ],
   "source": [
    "#evaluating model\n",
    "\n",
    "print('Validation accuracy : ',  accuracy_score(y_val,y_pred))\n",
    "print(classification_report(y_val,y_pred))"
   ]
  },
  {
   "cell_type": "code",
   "execution_count": 76,
   "metadata": {},
   "outputs": [],
   "source": [
    "#applying on test set\n",
    "\n",
    "X_test_pca = pca.transform(X_test_scaled) "
   ]
  },
  {
   "cell_type": "code",
   "execution_count": 77,
   "metadata": {},
   "outputs": [],
   "source": [
    "#predicting output\n",
    "\n",
    "y_pred_test = knn_model.predict(X_test_pca)"
   ]
  },
  {
   "cell_type": "code",
   "execution_count": 78,
   "metadata": {},
   "outputs": [
    {
     "name": "stdout",
     "output_type": "stream",
     "text": [
      "Test accuracy :  0.894\n",
      "              precision    recall  f1-score   support\n",
      "\n",
      "         0.0       0.92      0.98      0.95        99\n",
      "         1.0       0.95      0.99      0.97       113\n",
      "         2.0       0.97      0.88      0.92        94\n",
      "         3.0       0.90      0.77      0.83       108\n",
      "         4.0       0.95      0.90      0.93        93\n",
      "         5.0       0.86      0.85      0.86        96\n",
      "         6.0       0.89      0.98      0.93       101\n",
      "         7.0       0.90      0.76      0.82       103\n",
      "         8.0       0.90      0.87      0.88        99\n",
      "         9.0       0.74      0.96      0.83        94\n",
      "\n",
      "    accuracy                           0.89      1000\n",
      "   macro avg       0.90      0.89      0.89      1000\n",
      "weighted avg       0.90      0.89      0.89      1000\n",
      "\n"
     ]
    }
   ],
   "source": [
    "#evaluating model\n",
    "\n",
    "print(\"Test accuracy : \", accuracy_score(y_test,y_pred_test))\n",
    "print(classification_report(y_test,y_pred_test))"
   ]
  },
  {
   "cell_type": "markdown",
   "metadata": {},
   "source": [
    "##### 3.4) Adding noise to dataset and checking the output after performing PCA"
   ]
  },
  {
   "cell_type": "markdown",
   "metadata": {},
   "source": [
    "##### 3.4.1)Adding noise"
   ]
  },
  {
   "cell_type": "code",
   "execution_count": 79,
   "metadata": {},
   "outputs": [],
   "source": [
    "#intializing mean and std deviation\n",
    "\n",
    "mean,std_dev = 0,1"
   ]
  },
  {
   "cell_type": "code",
   "execution_count": 80,
   "metadata": {},
   "outputs": [],
   "source": [
    "#generating noisy data using random function\n",
    "\n",
    "noise_train = np.random.normal(mean,std_dev,[6000,256])\n",
    "noise_test = np.random.normal(mean,std_dev,[1000,256])"
   ]
  },
  {
   "cell_type": "code",
   "execution_count": 81,
   "metadata": {},
   "outputs": [],
   "source": [
    "#converting to dataframe so as to merge with given dataset\n",
    "\n",
    "noise_df_train = pd.DataFrame(data=noise_train)\n",
    "noise_df_test = pd.DataFrame(data=noise_test)"
   ]
  },
  {
   "cell_type": "code",
   "execution_count": 82,
   "metadata": {},
   "outputs": [
    {
     "name": "stdout",
     "output_type": "stream",
     "text": [
      "(6000, 256)\n",
      "(1000, 256)\n"
     ]
    }
   ],
   "source": [
    "#checcking shape of the created dataframe\n",
    "\n",
    "print(noise_df_train.shape)\n",
    "print(noise_df_test.shape)"
   ]
  },
  {
   "cell_type": "code",
   "execution_count": 83,
   "metadata": {},
   "outputs": [],
   "source": [
    "#appending noise - to get 1040 dimensional feature set\n",
    "\n",
    "mnist_train_new = pd.concat([mnist_train,noise_df_train],axis=1)\n",
    "mnist_test_new = pd.concat([mnist_test,noise_df_test],axis=1)"
   ]
  },
  {
   "cell_type": "code",
   "execution_count": 84,
   "metadata": {},
   "outputs": [
    {
     "name": "stdout",
     "output_type": "stream",
     "text": [
      "(6000, 1041)\n",
      "(1000, 1041)\n"
     ]
    }
   ],
   "source": [
    "#checking shape\n",
    "\n",
    "print(mnist_train_new.shape)\n",
    "print(mnist_test_new.shape)"
   ]
  },
  {
   "cell_type": "code",
   "execution_count": 85,
   "metadata": {},
   "outputs": [],
   "source": [
    "#splitting in X and y variables\n",
    "\n",
    "X_new = mnist_train_new.iloc[:,1:]\n",
    "y_new = mnist_train_new.iloc[:,0]"
   ]
  },
  {
   "cell_type": "code",
   "execution_count": 86,
   "metadata": {},
   "outputs": [
    {
     "name": "stdout",
     "output_type": "stream",
     "text": [
      "(6000, 1040)\n",
      "(6000,)\n"
     ]
    }
   ],
   "source": [
    "#verifying splitted data\n",
    "\n",
    "print(X_new.shape)\n",
    "print(y_new.shape)"
   ]
  },
  {
   "cell_type": "code",
   "execution_count": 87,
   "metadata": {},
   "outputs": [],
   "source": [
    "#splitting in train and validation set\n",
    "\n",
    "X_new_train,X_new_val,y_new_train,y_new_val = train_test_split(X_new,y_new,test_size=0.30,shuffle=True)"
   ]
  },
  {
   "cell_type": "code",
   "execution_count": 88,
   "metadata": {},
   "outputs": [],
   "source": [
    "#separating test set\n",
    "\n",
    "X_new_test = mnist_test_new.iloc[:,1:]\n",
    "y_new_test = mnist_test_new.iloc[:,0]"
   ]
  },
  {
   "cell_type": "markdown",
   "metadata": {},
   "source": [
    "##### 3.4.2) Implementing PCA on noisy data and classifying using 1-KNN"
   ]
  },
  {
   "cell_type": "code",
   "execution_count": 89,
   "metadata": {},
   "outputs": [],
   "source": [
    "#using implemented pca model on above dataset\n",
    "\n",
    "pca_model = PrincipalComponentAnalysis(784)"
   ]
  },
  {
   "cell_type": "code",
   "execution_count": 90,
   "metadata": {},
   "outputs": [],
   "source": [
    "#fitting on train set\n",
    "\n",
    "pca_model.fit(X_new_train)"
   ]
  },
  {
   "cell_type": "code",
   "execution_count": 91,
   "metadata": {},
   "outputs": [],
   "source": [
    "#reducing dimension\n",
    "\n",
    "X_train_pca_transformed = pca_model.transform(X_new_train)\n",
    "X_val_pca_transformed = pca_model.transform(X_new_val)"
   ]
  },
  {
   "cell_type": "code",
   "execution_count": 92,
   "metadata": {},
   "outputs": [
    {
     "data": {
      "text/plain": [
       "KNeighborsClassifier(n_neighbors=1)"
      ]
     },
     "execution_count": 92,
     "metadata": {},
     "output_type": "execute_result"
    }
   ],
   "source": [
    "#checking output using 1-KNN classifier\n",
    "\n",
    "knn_model.fit(X_train_pca_transformed,y_new_train)"
   ]
  },
  {
   "cell_type": "code",
   "execution_count": 93,
   "metadata": {},
   "outputs": [],
   "source": [
    "#predicting output\n",
    "\n",
    "y_pred = knn_model.predict(X_val_pca_transformed)"
   ]
  },
  {
   "cell_type": "code",
   "execution_count": 94,
   "metadata": {},
   "outputs": [
    {
     "name": "stdout",
     "output_type": "stream",
     "text": [
      "[8. 2. 4. ... 7. 2. 6.]\n",
      "1214    8.0\n",
      "774     2.0\n",
      "3484    4.0\n",
      "2990    4.0\n",
      "2712    9.0\n",
      "Name: 0, dtype: float64\n"
     ]
    }
   ],
   "source": [
    "#checking predictions\n",
    "\n",
    "print(y_pred)\n",
    "print(y_new_val.head())"
   ]
  },
  {
   "cell_type": "code",
   "execution_count": 95,
   "metadata": {},
   "outputs": [
    {
     "name": "stdout",
     "output_type": "stream",
     "text": [
      "Validation accuracy :  0.5588888888888889\n",
      "              precision    recall  f1-score   support\n",
      "\n",
      "         0.0       0.74      0.76      0.75       174\n",
      "         1.0       0.53      0.91      0.67       182\n",
      "         2.0       0.65      0.43      0.52       175\n",
      "         3.0       0.56      0.53      0.55       187\n",
      "         4.0       0.52      0.41      0.46       196\n",
      "         5.0       0.51      0.36      0.42       168\n",
      "         6.0       0.65      0.63      0.64       187\n",
      "         7.0       0.52      0.67      0.59       172\n",
      "         8.0       0.56      0.42      0.48       179\n",
      "         9.0       0.41      0.47      0.44       180\n",
      "\n",
      "    accuracy                           0.56      1800\n",
      "   macro avg       0.56      0.56      0.55      1800\n",
      "weighted avg       0.56      0.56      0.55      1800\n",
      "\n"
     ]
    }
   ],
   "source": [
    "#evaluating ouptut\n",
    "\n",
    "print(\"Validation accuracy : \",accuracy_score(y_new_val,y_pred))\n",
    "print(classification_report(y_new_val,y_pred))"
   ]
  },
  {
   "cell_type": "code",
   "execution_count": 96,
   "metadata": {},
   "outputs": [],
   "source": [
    "#applying on test set\n",
    "\n",
    "X_test_pca_transformed = pca_model.transform(X_new_test)"
   ]
  },
  {
   "cell_type": "code",
   "execution_count": 97,
   "metadata": {},
   "outputs": [],
   "source": [
    "#predicting output\n",
    "\n",
    "y_pred_test = knn_model.predict(X_test_pca_transformed)"
   ]
  },
  {
   "cell_type": "code",
   "execution_count": 98,
   "metadata": {},
   "outputs": [
    {
     "name": "stdout",
     "output_type": "stream",
     "text": [
      "Test accuracy :  0.573\n",
      "              precision    recall  f1-score   support\n",
      "\n",
      "         0.0       0.84      0.72      0.77        99\n",
      "         1.0       0.51      0.90      0.65       113\n",
      "         2.0       0.63      0.36      0.46        94\n",
      "         3.0       0.57      0.52      0.54       108\n",
      "         4.0       0.57      0.51      0.54        93\n",
      "         5.0       0.48      0.38      0.42        96\n",
      "         6.0       0.66      0.74      0.70       101\n",
      "         7.0       0.59      0.62      0.61       103\n",
      "         8.0       0.54      0.41      0.47        99\n",
      "         9.0       0.44      0.50      0.47        94\n",
      "\n",
      "    accuracy                           0.57      1000\n",
      "   macro avg       0.58      0.57      0.56      1000\n",
      "weighted avg       0.58      0.57      0.57      1000\n",
      "\n"
     ]
    }
   ],
   "source": [
    "#evaluating ouptut\n",
    "\n",
    "print(\"Test accuracy : \",accuracy_score(y_new_test,y_pred_test))\n",
    "print(classification_report(y_new_test,y_pred_test))"
   ]
  },
  {
   "cell_type": "code",
   "execution_count": 99,
   "metadata": {},
   "outputs": [],
   "source": [
    "#checking using sklearn pca\n",
    "\n",
    "pca.n_components = 784"
   ]
  },
  {
   "cell_type": "code",
   "execution_count": 100,
   "metadata": {},
   "outputs": [
    {
     "data": {
      "text/plain": [
       "PCA(n_components=784, svd_solver='full')"
      ]
     },
     "execution_count": 100,
     "metadata": {},
     "output_type": "execute_result"
    }
   ],
   "source": [
    "#fitting train data\n",
    "\n",
    "pca.fit(X_new_train)"
   ]
  },
  {
   "cell_type": "code",
   "execution_count": 101,
   "metadata": {},
   "outputs": [],
   "source": [
    "#reducing dimensions using transfrom function\n",
    "\n",
    "X_train_pca = pca.transform(X_new_train)\n",
    "X_val_pca = pca.transform(X_new_val)"
   ]
  },
  {
   "cell_type": "code",
   "execution_count": 102,
   "metadata": {},
   "outputs": [
    {
     "name": "stdout",
     "output_type": "stream",
     "text": [
      "(4200, 784)\n",
      "(1800, 784)\n"
     ]
    }
   ],
   "source": [
    "#checking shape\n",
    "\n",
    "print(X_train_pca.shape)\n",
    "print(X_val_pca.shape)"
   ]
  },
  {
   "cell_type": "code",
   "execution_count": 103,
   "metadata": {},
   "outputs": [
    {
     "data": {
      "text/plain": [
       "KNeighborsClassifier(n_neighbors=1)"
      ]
     },
     "execution_count": 103,
     "metadata": {},
     "output_type": "execute_result"
    }
   ],
   "source": [
    "knn_model.fit(X_train_pca,y_new_train)"
   ]
  },
  {
   "cell_type": "code",
   "execution_count": 104,
   "metadata": {},
   "outputs": [],
   "source": [
    "y_pred = knn_model.predict(X_val_pca)"
   ]
  },
  {
   "cell_type": "code",
   "execution_count": 105,
   "metadata": {},
   "outputs": [
    {
     "name": "stdout",
     "output_type": "stream",
     "text": [
      "Validation accuracy :  0.5588888888888889\n",
      "              precision    recall  f1-score   support\n",
      "\n",
      "         0.0       0.74      0.76      0.75       174\n",
      "         1.0       0.53      0.91      0.67       182\n",
      "         2.0       0.65      0.43      0.52       175\n",
      "         3.0       0.56      0.53      0.55       187\n",
      "         4.0       0.52      0.41      0.46       196\n",
      "         5.0       0.51      0.36      0.42       168\n",
      "         6.0       0.65      0.63      0.64       187\n",
      "         7.0       0.52      0.67      0.59       172\n",
      "         8.0       0.56      0.42      0.48       179\n",
      "         9.0       0.41      0.47      0.44       180\n",
      "\n",
      "    accuracy                           0.56      1800\n",
      "   macro avg       0.56      0.56      0.55      1800\n",
      "weighted avg       0.56      0.56      0.55      1800\n",
      "\n"
     ]
    }
   ],
   "source": [
    "#evaluating output\n",
    "\n",
    "print(\"Validation accuracy : \",accuracy_score(y_new_val,y_pred))\n",
    "print(classification_report(y_new_val,y_pred))"
   ]
  },
  {
   "cell_type": "code",
   "execution_count": 106,
   "metadata": {},
   "outputs": [],
   "source": [
    "#applying on test set\n",
    "\n",
    "X_test_pca = pca.transform(X_new_test)"
   ]
  },
  {
   "cell_type": "code",
   "execution_count": 107,
   "metadata": {},
   "outputs": [],
   "source": [
    "#predicting output\n",
    "\n",
    "y_pred_test = knn_model.predict(X_test_pca)"
   ]
  },
  {
   "cell_type": "code",
   "execution_count": 108,
   "metadata": {},
   "outputs": [
    {
     "name": "stdout",
     "output_type": "stream",
     "text": [
      "Test accuracy :  0.573\n",
      "              precision    recall  f1-score   support\n",
      "\n",
      "         0.0       0.84      0.72      0.77        99\n",
      "         1.0       0.51      0.90      0.65       113\n",
      "         2.0       0.63      0.36      0.46        94\n",
      "         3.0       0.57      0.52      0.54       108\n",
      "         4.0       0.57      0.51      0.54        93\n",
      "         5.0       0.48      0.38      0.42        96\n",
      "         6.0       0.66      0.74      0.70       101\n",
      "         7.0       0.59      0.62      0.61       103\n",
      "         8.0       0.54      0.41      0.47        99\n",
      "         9.0       0.44      0.50      0.47        94\n",
      "\n",
      "    accuracy                           0.57      1000\n",
      "   macro avg       0.58      0.57      0.56      1000\n",
      "weighted avg       0.58      0.57      0.57      1000\n",
      "\n"
     ]
    }
   ],
   "source": [
    "#evaluating ouptut\n",
    "\n",
    "print(\"Test accuracy : \",accuracy_score(y_new_test,y_pred_test))\n",
    "print(classification_report(y_new_test,y_pred_test))"
   ]
  },
  {
   "cell_type": "markdown",
   "metadata": {},
   "source": [
    "##### 3.4.3) Implementing PCA on noisy data and classifying using SVM classifier"
   ]
  },
  {
   "cell_type": "code",
   "execution_count": 109,
   "metadata": {},
   "outputs": [],
   "source": [
    "#using svm classifier - applying data which is reduced using implemented PCA \n",
    "\n",
    "svm_clf = SVC(C=1)"
   ]
  },
  {
   "cell_type": "code",
   "execution_count": 110,
   "metadata": {},
   "outputs": [
    {
     "data": {
      "text/plain": [
       "SVC(C=1)"
      ]
     },
     "execution_count": 110,
     "metadata": {},
     "output_type": "execute_result"
    }
   ],
   "source": [
    "#fitting PCA applied train set\n",
    "\n",
    "svm_clf.fit(X_train_pca_transformed,y_new_train)"
   ]
  },
  {
   "cell_type": "code",
   "execution_count": 111,
   "metadata": {},
   "outputs": [],
   "source": [
    "#predicting output\n",
    "\n",
    "y_pred = svm_clf.predict(X_val_pca_transformed)"
   ]
  },
  {
   "cell_type": "code",
   "execution_count": 112,
   "metadata": {},
   "outputs": [
    {
     "name": "stdout",
     "output_type": "stream",
     "text": [
      "[8. 2. 9. ... 7. 2. 6.]\n",
      "1214    8.0\n",
      "774     2.0\n",
      "3484    4.0\n",
      "2990    4.0\n",
      "2712    9.0\n",
      "Name: 0, dtype: float64\n"
     ]
    }
   ],
   "source": [
    "#checking results\n",
    "\n",
    "print(y_pred)\n",
    "print(y_new_val.head())"
   ]
  },
  {
   "cell_type": "code",
   "execution_count": 113,
   "metadata": {},
   "outputs": [
    {
     "name": "stdout",
     "output_type": "stream",
     "text": [
      "Validation accuracy :  0.8855555555555555\n",
      "              precision    recall  f1-score   support\n",
      "\n",
      "         0.0       0.94      0.98      0.96       174\n",
      "         1.0       0.89      0.99      0.94       182\n",
      "         2.0       0.91      0.82      0.86       175\n",
      "         3.0       0.85      0.86      0.85       187\n",
      "         4.0       0.84      0.92      0.88       196\n",
      "         5.0       0.84      0.84      0.84       168\n",
      "         6.0       0.96      0.92      0.94       187\n",
      "         7.0       0.86      0.92      0.89       172\n",
      "         8.0       0.92      0.79      0.85       179\n",
      "         9.0       0.86      0.81      0.83       180\n",
      "\n",
      "    accuracy                           0.89      1800\n",
      "   macro avg       0.89      0.89      0.88      1800\n",
      "weighted avg       0.89      0.89      0.88      1800\n",
      "\n"
     ]
    }
   ],
   "source": [
    "#evaluating model\n",
    "\n",
    "print(\"Validation accuracy : \",accuracy_score(y_new_val,y_pred))\n",
    "print(classification_report(y_new_val,y_pred))"
   ]
  },
  {
   "cell_type": "code",
   "execution_count": 114,
   "metadata": {},
   "outputs": [],
   "source": [
    "#predicting output\n",
    "\n",
    "y_preds_test = svm_clf.predict(X_test_pca_transformed)"
   ]
  },
  {
   "cell_type": "code",
   "execution_count": 115,
   "metadata": {},
   "outputs": [
    {
     "name": "stdout",
     "output_type": "stream",
     "text": [
      "Test accuracy :  0.879\n",
      "              precision    recall  f1-score   support\n",
      "\n",
      "         0.0       0.95      0.95      0.95        99\n",
      "         1.0       0.87      0.99      0.93       113\n",
      "         2.0       0.95      0.85      0.90        94\n",
      "         3.0       0.86      0.79      0.82       108\n",
      "         4.0       0.90      0.87      0.89        93\n",
      "         5.0       0.84      0.83      0.84        96\n",
      "         6.0       0.90      0.94      0.92       101\n",
      "         7.0       0.93      0.83      0.88       103\n",
      "         8.0       0.90      0.81      0.85        99\n",
      "         9.0       0.74      0.91      0.82        94\n",
      "\n",
      "    accuracy                           0.88      1000\n",
      "   macro avg       0.88      0.88      0.88      1000\n",
      "weighted avg       0.88      0.88      0.88      1000\n",
      "\n"
     ]
    }
   ],
   "source": [
    "#evaluating ouptut\n",
    "\n",
    "print(\"Test accuracy : \",accuracy_score(y_new_test,y_preds_test))\n",
    "print(classification_report(y_new_test,y_preds_test))"
   ]
  },
  {
   "cell_type": "code",
   "execution_count": 116,
   "metadata": {},
   "outputs": [
    {
     "data": {
      "text/plain": [
       "SVC(C=1)"
      ]
     },
     "execution_count": 116,
     "metadata": {},
     "output_type": "execute_result"
    }
   ],
   "source": [
    "#using svm classifier - applying data which is reduced using sklearn PCA\n",
    "\n",
    "svm_clf.fit(X_train_pca,y_new_train)"
   ]
  },
  {
   "cell_type": "code",
   "execution_count": 117,
   "metadata": {},
   "outputs": [],
   "source": [
    "#predicting output\n",
    "\n",
    "y_pred = svm_clf.predict(X_val_pca)"
   ]
  },
  {
   "cell_type": "code",
   "execution_count": 118,
   "metadata": {},
   "outputs": [
    {
     "name": "stdout",
     "output_type": "stream",
     "text": [
      "[8. 2. 9. ... 7. 2. 6.]\n",
      "1214    8.0\n",
      "774     2.0\n",
      "3484    4.0\n",
      "2990    4.0\n",
      "2712    9.0\n",
      "Name: 0, dtype: float64\n"
     ]
    }
   ],
   "source": [
    "#checking results\n",
    "\n",
    "print(y_pred)\n",
    "print(y_new_val.head())"
   ]
  },
  {
   "cell_type": "code",
   "execution_count": 119,
   "metadata": {},
   "outputs": [
    {
     "name": "stdout",
     "output_type": "stream",
     "text": [
      "Validation accuracy :  0.8855555555555555\n",
      "              precision    recall  f1-score   support\n",
      "\n",
      "         0.0       0.94      0.98      0.96       174\n",
      "         1.0       0.89      0.99      0.94       182\n",
      "         2.0       0.91      0.82      0.86       175\n",
      "         3.0       0.85      0.86      0.85       187\n",
      "         4.0       0.84      0.92      0.88       196\n",
      "         5.0       0.84      0.84      0.84       168\n",
      "         6.0       0.96      0.92      0.94       187\n",
      "         7.0       0.86      0.92      0.89       172\n",
      "         8.0       0.92      0.79      0.85       179\n",
      "         9.0       0.86      0.81      0.83       180\n",
      "\n",
      "    accuracy                           0.89      1800\n",
      "   macro avg       0.89      0.89      0.88      1800\n",
      "weighted avg       0.89      0.89      0.88      1800\n",
      "\n"
     ]
    }
   ],
   "source": [
    "#evaluating model\n",
    "\n",
    "print(\"Validation accuracy : \",accuracy_score(y_new_val,y_pred))\n",
    "print(classification_report(y_new_val,y_pred))\n",
    "\n",
    "#KNN model sensitve to noise - accuracy drops sharply for 1-KNN - even after performing PCA"
   ]
  },
  {
   "cell_type": "code",
   "execution_count": 120,
   "metadata": {},
   "outputs": [],
   "source": [
    "#predicting output for test set\n",
    "\n",
    "y_preds_test = svm_clf.predict(X_test_pca)"
   ]
  },
  {
   "cell_type": "code",
   "execution_count": 121,
   "metadata": {},
   "outputs": [
    {
     "name": "stdout",
     "output_type": "stream",
     "text": [
      "Test accuracy :  0.879\n",
      "              precision    recall  f1-score   support\n",
      "\n",
      "         0.0       0.95      0.95      0.95        99\n",
      "         1.0       0.87      0.99      0.93       113\n",
      "         2.0       0.95      0.85      0.90        94\n",
      "         3.0       0.86      0.79      0.82       108\n",
      "         4.0       0.90      0.87      0.89        93\n",
      "         5.0       0.84      0.83      0.84        96\n",
      "         6.0       0.90      0.94      0.92       101\n",
      "         7.0       0.93      0.83      0.88       103\n",
      "         8.0       0.90      0.81      0.85        99\n",
      "         9.0       0.74      0.91      0.82        94\n",
      "\n",
      "    accuracy                           0.88      1000\n",
      "   macro avg       0.88      0.88      0.88      1000\n",
      "weighted avg       0.88      0.88      0.88      1000\n",
      "\n"
     ]
    }
   ],
   "source": [
    "#evaluating ouptut\n",
    "\n",
    "print(\"Test accuracy : \",accuracy_score(y_new_test,y_preds_test))\n",
    "print(classification_report(y_new_test,y_preds_test))"
   ]
  },
  {
   "cell_type": "markdown",
   "metadata": {},
   "source": [
    "##### 3.4.4) Implementing noisy data directly without performing PCA - classifying using 1-KNN, SVM classifier"
   ]
  },
  {
   "cell_type": "code",
   "execution_count": 122,
   "metadata": {},
   "outputs": [
    {
     "data": {
      "text/plain": [
       "KNeighborsClassifier(n_neighbors=1)"
      ]
     },
     "execution_count": 122,
     "metadata": {},
     "output_type": "execute_result"
    }
   ],
   "source": [
    "#checking 1-KNN classifier output for noisy data without applying PCA\n",
    "\n",
    "knn_model.fit(X_new_train,y_new_train)"
   ]
  },
  {
   "cell_type": "code",
   "execution_count": 123,
   "metadata": {},
   "outputs": [],
   "source": [
    "#classifying output\n",
    "\n",
    "y_pred = knn_model.predict(X_new_val)"
   ]
  },
  {
   "cell_type": "code",
   "execution_count": 124,
   "metadata": {},
   "outputs": [
    {
     "name": "stdout",
     "output_type": "stream",
     "text": [
      "Validation accuracy :  0.5594444444444444\n",
      "              precision    recall  f1-score   support\n",
      "\n",
      "         0.0       0.74      0.76      0.75       174\n",
      "         1.0       0.53      0.91      0.67       182\n",
      "         2.0       0.65      0.43      0.52       175\n",
      "         3.0       0.56      0.53      0.55       187\n",
      "         4.0       0.52      0.41      0.46       196\n",
      "         5.0       0.52      0.36      0.42       168\n",
      "         6.0       0.65      0.63      0.64       187\n",
      "         7.0       0.52      0.67      0.59       172\n",
      "         8.0       0.56      0.42      0.48       179\n",
      "         9.0       0.41      0.47      0.44       180\n",
      "\n",
      "    accuracy                           0.56      1800\n",
      "   macro avg       0.57      0.56      0.55      1800\n",
      "weighted avg       0.56      0.56      0.55      1800\n",
      "\n"
     ]
    }
   ],
   "source": [
    "#evaluating model\n",
    "\n",
    "print(\"Validation accuracy : \",accuracy_score(y_new_val,y_pred))\n",
    "print(classification_report(y_new_val,y_pred))"
   ]
  },
  {
   "cell_type": "code",
   "execution_count": 125,
   "metadata": {},
   "outputs": [],
   "source": [
    "#predicting for test set\n",
    "\n",
    "y_pred_test = knn_model.predict(X_new_test)"
   ]
  },
  {
   "cell_type": "code",
   "execution_count": 126,
   "metadata": {},
   "outputs": [
    {
     "name": "stdout",
     "output_type": "stream",
     "text": [
      "Test accuracy :  0.573\n",
      "              precision    recall  f1-score   support\n",
      "\n",
      "         0.0       0.84      0.72      0.77        99\n",
      "         1.0       0.51      0.90      0.65       113\n",
      "         2.0       0.63      0.36      0.46        94\n",
      "         3.0       0.57      0.52      0.54       108\n",
      "         4.0       0.57      0.51      0.54        93\n",
      "         5.0       0.48      0.38      0.42        96\n",
      "         6.0       0.66      0.74      0.70       101\n",
      "         7.0       0.59      0.62      0.61       103\n",
      "         8.0       0.54      0.41      0.47        99\n",
      "         9.0       0.44      0.50      0.47        94\n",
      "\n",
      "    accuracy                           0.57      1000\n",
      "   macro avg       0.58      0.57      0.56      1000\n",
      "weighted avg       0.58      0.57      0.57      1000\n",
      "\n"
     ]
    }
   ],
   "source": [
    "#evaluating ouptut\n",
    "\n",
    "print(\"Test accuracy : \",accuracy_score(y_new_test,y_pred_test))\n",
    "print(classification_report(y_new_test,y_pred_test))"
   ]
  },
  {
   "cell_type": "code",
   "execution_count": 127,
   "metadata": {},
   "outputs": [
    {
     "data": {
      "text/plain": [
       "SVC(C=1)"
      ]
     },
     "execution_count": 127,
     "metadata": {},
     "output_type": "execute_result"
    }
   ],
   "source": [
    "#checking SVM classifier output for noisy data without applying PCA\n",
    "\n",
    "svm_clf.fit(X_new_train,y_new_train)"
   ]
  },
  {
   "cell_type": "code",
   "execution_count": 128,
   "metadata": {},
   "outputs": [],
   "source": [
    "#predicting classifier output\n",
    "\n",
    "y_predicted = svm_clf.predict(X_new_val)"
   ]
  },
  {
   "cell_type": "code",
   "execution_count": 129,
   "metadata": {},
   "outputs": [
    {
     "name": "stdout",
     "output_type": "stream",
     "text": [
      "Validation accuracy :  0.8866666666666667\n",
      "              precision    recall  f1-score   support\n",
      "\n",
      "         0.0       0.95      0.98      0.96       174\n",
      "         1.0       0.89      0.99      0.94       182\n",
      "         2.0       0.90      0.81      0.86       175\n",
      "         3.0       0.85      0.86      0.85       187\n",
      "         4.0       0.85      0.92      0.89       196\n",
      "         5.0       0.84      0.84      0.84       168\n",
      "         6.0       0.95      0.93      0.94       187\n",
      "         7.0       0.86      0.92      0.89       172\n",
      "         8.0       0.92      0.80      0.86       179\n",
      "         9.0       0.86      0.82      0.84       180\n",
      "\n",
      "    accuracy                           0.89      1800\n",
      "   macro avg       0.89      0.89      0.89      1800\n",
      "weighted avg       0.89      0.89      0.89      1800\n",
      "\n"
     ]
    }
   ],
   "source": [
    "#evaluating model\n",
    "\n",
    "print(\"Validation accuracy : \", accuracy_score(y_new_val,y_predicted))\n",
    "print(classification_report(y_new_val,y_predicted))"
   ]
  },
  {
   "cell_type": "code",
   "execution_count": 130,
   "metadata": {},
   "outputs": [],
   "source": [
    "#predicting classifier output for test set\n",
    "\n",
    "y_predicted_test = svm_clf.predict(X_new_test)"
   ]
  },
  {
   "cell_type": "code",
   "execution_count": 131,
   "metadata": {},
   "outputs": [
    {
     "name": "stdout",
     "output_type": "stream",
     "text": [
      "Test accuracy :  0.881\n",
      "              precision    recall  f1-score   support\n",
      "\n",
      "         0.0       0.96      0.95      0.95        99\n",
      "         1.0       0.88      0.99      0.93       113\n",
      "         2.0       0.95      0.84      0.89        94\n",
      "         3.0       0.85      0.80      0.82       108\n",
      "         4.0       0.90      0.87      0.89        93\n",
      "         5.0       0.84      0.83      0.84        96\n",
      "         6.0       0.89      0.96      0.92       101\n",
      "         7.0       0.95      0.83      0.89       103\n",
      "         8.0       0.90      0.81      0.85        99\n",
      "         9.0       0.74      0.91      0.82        94\n",
      "\n",
      "    accuracy                           0.88      1000\n",
      "   macro avg       0.89      0.88      0.88      1000\n",
      "weighted avg       0.89      0.88      0.88      1000\n",
      "\n"
     ]
    }
   ],
   "source": [
    "#evaluating ouptut\n",
    "\n",
    "print(\"Test accuracy : \",accuracy_score(y_new_test,y_predicted_test))\n",
    "print(classification_report(y_new_test,y_predicted_test))"
   ]
  },
  {
   "cell_type": "code",
   "execution_count": null,
   "metadata": {},
   "outputs": [],
   "source": []
  }
 ],
 "metadata": {
  "kernelspec": {
   "display_name": "Python 3",
   "language": "python",
   "name": "python3"
  },
  "language_info": {
   "codemirror_mode": {
    "name": "ipython",
    "version": 3
   },
   "file_extension": ".py",
   "mimetype": "text/x-python",
   "name": "python",
   "nbconvert_exporter": "python",
   "pygments_lexer": "ipython3",
   "version": "3.8.8"
  }
 },
 "nbformat": 4,
 "nbformat_minor": 4
}
